{
 "cells": [
  {
   "cell_type": "code",
   "execution_count": 1,
   "id": "97283706-b0ad-4173-bf0f-9d57c6f35b77",
   "metadata": {},
   "outputs": [],
   "source": [
    "import numpy as np"
   ]
  },
  {
   "cell_type": "code",
   "execution_count": 2,
   "id": "385dc12c-5e53-4af5-a998-75aa2c8294de",
   "metadata": {},
   "outputs": [],
   "source": [
    "def lu(A):\n",
    "    \"\"\"\n",
    "    Given an nxn matrix A, computes the LU decomposition without\n",
    "    pivoting.\n",
    "    \n",
    "    Parameters:\n",
    "        A : np.ndarray\n",
    "    Returns\n",
    "        L, U : np.ndarray\n",
    "    \"\"\"\n",
    "    # Check shapes\n",
    "    if np.shape(A)[0] != np.shape(A)[1]:\n",
    "        raise ValueError(\"Matrix dimensions should be the same length\")\n",
    "    \n",
    "    n = np.shape(A)[0]\n",
    "    L = np.eye(n)\n",
    "    U = np.zeros((n,n))\n",
    "    \n",
    "    # Set first row\n",
    "    U[0, :] = A[0, :]\n",
    "    \n",
    "    for i in np.arange(2, n+1):\n",
    "        for j in np.arange(1, i):\n",
    "            # L_ij factors\n",
    "            sum_prod = np.sum(\n",
    "                [L[i-1, k-1]*U[k-1, j-1] for k in np.arange(1, j)]\n",
    "            )\n",
    "            L[i-1, j-1] = 1/U[j-1, j-1] * (A[i-1, j-1] - sum_prod)\n",
    "            \n",
    "        for j in np.arange(i, n+1):\n",
    "            # U_ij factors\n",
    "            sum_prod = np.sum(\n",
    "                [L[i-1, k-1]*U[k-1, j-1] for k in np.arange(1, i)]\n",
    "            )\n",
    "            U[i-1, j-1] = A[i-1, j-1] - sum_prod\n",
    "    \n",
    "    return L, U"
   ]
  },
  {
   "cell_type": "markdown",
   "id": "c223e5e9-cb07-4bac-93f4-e1c8b6fd02b5",
   "metadata": {},
   "source": [
    "For the above loops we could have used np.dot and a condensed notation instead of the list comprehension:\n",
    "\n",
    "```python\n",
    "# Condensed version of above loops without list comprehensions\n",
    "for i in np.arange(2, n+1):\n",
    "    for j in np.arange(1, i):\n",
    "        l_ij_sum = np.dot(L[i-1, 0:j-1], U[0:j-1, j-1])\n",
    "        L[i-1, j-1] = 1/U[j-1, j-1] * (A[i-1, j-1] - l_ij_sum)\n",
    "    for j in np.arange(i, n+1):\n",
    "        U[i-1, j-1] = A[i-1, j-1] - np.dot(L[i-1, 0:i-1], U[0:i-1, j-1])\n",
    "```"
   ]
  },
  {
   "cell_type": "code",
   "execution_count": 3,
   "id": "51af0956-c0e3-4dc9-b7dc-5ed1edd3f798",
   "metadata": {},
   "outputs": [
    {
     "name": "stdout",
     "output_type": "stream",
     "text": [
      "Matrix L:\n",
      "[[ 1.  0.  0.]\n",
      " [ 2.  1.  0.]\n",
      " [-2.  1.  1.]]\n",
      "Matrix U:\n",
      "[[ 3.  3.  0.]\n",
      " [ 0. -2.  7.]\n",
      " [ 0.  0.  2.]]\n"
     ]
    }
   ],
   "source": [
    "A = np.array([\n",
    "    [3, 3, 0],\n",
    "    [6, 4, 7],\n",
    "    [-6, -8, 9]\n",
    "])\n",
    "\n",
    "L, U = lu(A)\n",
    "print(\"Matrix L:\")\n",
    "print(L)\n",
    "print(\"Matrix U:\")\n",
    "print(U)"
   ]
  },
  {
   "cell_type": "code",
   "execution_count": 4,
   "id": "6088bf68-a2a8-4d61-be3c-05f083764ada",
   "metadata": {},
   "outputs": [
    {
     "data": {
      "text/plain": [
       "array([[ 3.,  3.,  0.],\n",
       "       [ 6.,  4.,  7.],\n",
       "       [-6., -8.,  9.]])"
      ]
     },
     "execution_count": 4,
     "metadata": {},
     "output_type": "execute_result"
    }
   ],
   "source": [
    "L @ U"
   ]
  },
  {
   "cell_type": "code",
   "execution_count": null,
   "id": "c2f7dd72-7a5f-46b4-b104-ec6f87cd9441",
   "metadata": {},
   "outputs": [],
   "source": []
  }
 ],
 "metadata": {
  "kernelspec": {
   "display_name": "pangeo",
   "language": "python",
   "name": "pangeo"
  },
  "language_info": {
   "codemirror_mode": {
    "name": "ipython",
    "version": 3
   },
   "file_extension": ".py",
   "mimetype": "text/x-python",
   "name": "python",
   "nbconvert_exporter": "python",
   "pygments_lexer": "ipython3",
   "version": "3.8.5"
  }
 },
 "nbformat": 4,
 "nbformat_minor": 5
}
