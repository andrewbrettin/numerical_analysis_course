{
 "cells": [
  {
   "cell_type": "code",
   "execution_count": 1,
   "id": "4d1ff5b2-a2c8-410b-bb40-1c74ea11125b",
   "metadata": {},
   "outputs": [],
   "source": [
    "import numpy as np\n",
    "from lu_utils import lu"
   ]
  },
  {
   "cell_type": "markdown",
   "id": "cd91adf4-0183-4935-a6ff-2340d655f2a3",
   "metadata": {},
   "source": [
    "## Stability of LU\n",
    "\n",
    "Consider\n",
    "$$\n",
    "A =\n",
    "\\begin{bmatrix}\n",
    "    10^{-20} & 1 \\\\\n",
    "    1 & 1\n",
    "\\end{bmatrix}\n",
    "$$\n",
    "The LU factors of this matrix are \n",
    "$$\n",
    "L =\n",
    "\\begin{bmatrix}\n",
    "    1 & 0 \\\\\n",
    "    10^{20} & 1\n",
    "\\end{bmatrix}, \\hspace{1cm}\n",
    "U =\n",
    "\\begin{bmatrix}\n",
    "    10^{-20} & 1 \\\\\n",
    "    0 & 1 - 10^{20}\n",
    "\\end{bmatrix}\n",
    "$$\n",
    "\n",
    "But we see that if we try to compute these matrices on a computer, we get something slightly different:"
   ]
  },
  {
   "cell_type": "code",
   "execution_count": 2,
   "id": "de877e71-e2af-4e12-b2b7-533330c75b4b",
   "metadata": {},
   "outputs": [],
   "source": [
    "A = np.array([\n",
    "    [1e-20, 1],\n",
    "    [1, 1]\n",
    "])"
   ]
  },
  {
   "cell_type": "code",
   "execution_count": 3,
   "id": "26201e36-4a09-4015-affe-c41ec11e4a71",
   "metadata": {},
   "outputs": [],
   "source": [
    "L_comp, U_comp = lu(A)"
   ]
  },
  {
   "cell_type": "code",
   "execution_count": 4,
   "id": "3f810e3c-25c2-415a-bf4a-e0870ae9a163",
   "metadata": {},
   "outputs": [
    {
     "name": "stdout",
     "output_type": "stream",
     "text": [
      "Computed L:\n",
      "[[1.e+00 0.e+00]\n",
      " [1.e+20 1.e+00]]\n",
      "Computed U:\n",
      "[[ 1.e-20  1.e+00]\n",
      " [ 0.e+00 -1.e+20]]\n"
     ]
    }
   ],
   "source": [
    "print(\"Computed L:\")\n",
    "print(L_comp)\n",
    "print(\"Computed U:\")\n",
    "print(U_comp)"
   ]
  },
  {
   "cell_type": "markdown",
   "id": "98b6539e-3fdf-4686-9091-c61f36b98fe1",
   "metadata": {},
   "source": [
    "The computed matrices are \n",
    "$$\n",
    "\\tilde{L} =\n",
    "\\begin{bmatrix}\n",
    "    1 & 0 \\\\\n",
    "    10^{20} & 1\n",
    "\\end{bmatrix}, \\hspace{1cm}\n",
    "\\tilde{U} =\n",
    "\\begin{bmatrix}\n",
    "    10^{-20} & 1 \\\\\n",
    "    0 & -10^{20}\n",
    "\\end{bmatrix}\n",
    "$$\n",
    "\n",
    "These seem like they're \"close enough\", but we see that the product $\\tilde{L}\\tilde{U}$ is nowhere close to A:"
   ]
  },
  {
   "cell_type": "code",
   "execution_count": 11,
   "id": "b7439446-c266-487a-9eb0-4817af7d101c",
   "metadata": {},
   "outputs": [
    {
     "name": "stdout",
     "output_type": "stream",
     "text": [
      "[[1.e-20 1.e+00]\n",
      " [1.e+00 0.e+00]]\n"
     ]
    }
   ],
   "source": [
    "print(L_comp @ U_comp)"
   ]
  },
  {
   "cell_type": "markdown",
   "id": "cc4b5bdf-66cd-4448-8d2e-6c6d9d30598e",
   "metadata": {},
   "source": [
    "Fortunately, pivoting typically makes LU better:"
   ]
  },
  {
   "cell_type": "code",
   "execution_count": 8,
   "id": "9aa40e58-1e9d-4462-81e3-ac25b2761d70",
   "metadata": {},
   "outputs": [
    {
     "name": "stdout",
     "output_type": "stream",
     "text": [
      "Computed permuted matrix PA:\n",
      "[[1.e+00 1.e+00]\n",
      " [1.e-20 1.e+00]]\n"
     ]
    }
   ],
   "source": [
    "P = np.array([\n",
    "    [0, 1],\n",
    "    [1, 0]\n",
    "])\n",
    "\n",
    "# Permuted matrix\n",
    "\n",
    "print(\"Computed permuted matrix PA:\")\n",
    "print(P @ A)"
   ]
  },
  {
   "cell_type": "code",
   "execution_count": 9,
   "id": "0b28d14d-2ff3-4ebd-9ac9-4c178a6fa7eb",
   "metadata": {},
   "outputs": [],
   "source": [
    "L_p, U_p = lu(P @ A)"
   ]
  },
  {
   "cell_type": "code",
   "execution_count": 10,
   "id": "a49defb1-aad8-431a-8aea-a0220dd03455",
   "metadata": {},
   "outputs": [
    {
     "name": "stdout",
     "output_type": "stream",
     "text": [
      "[[1.e+00 1.e+00]\n",
      " [1.e-20 1.e+00]]\n"
     ]
    }
   ],
   "source": [
    "print(L_p @ U_p)"
   ]
  },
  {
   "cell_type": "code",
   "execution_count": null,
   "id": "c25b362a-0026-42c9-98e7-204bf9a57aee",
   "metadata": {},
   "outputs": [],
   "source": []
  }
 ],
 "metadata": {
  "kernelspec": {
   "display_name": "Python [conda env:numerics]",
   "language": "python",
   "name": "conda-env-numerics-py"
  },
  "language_info": {
   "codemirror_mode": {
    "name": "ipython",
    "version": 3
   },
   "file_extension": ".py",
   "mimetype": "text/x-python",
   "name": "python",
   "nbconvert_exporter": "python",
   "pygments_lexer": "ipython3",
   "version": "3.10.6"
  }
 },
 "nbformat": 4,
 "nbformat_minor": 5
}
