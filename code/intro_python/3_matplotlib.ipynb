{
 "cells": [
  {
   "cell_type": "markdown",
   "id": "164688dd-06a4-4e4a-a1a2-e3ef225d3a73",
   "metadata": {},
   "source": [
    "# Introduction to matplotlib\n",
    "Matplotlib is a plotting module for python based on the syntax from MATLAB."
   ]
  },
  {
   "cell_type": "code",
   "execution_count": null,
   "id": "473b6a21-e7a2-44cd-90dd-3168482e7b36",
   "metadata": {},
   "outputs": [],
   "source": [
    "import numpy as np\n",
    "import matplotlib.pyplot as plt"
   ]
  },
  {
   "cell_type": "markdown",
   "id": "0d0b8157-a10e-4f39-b58b-74248c642afe",
   "metadata": {},
   "source": [
    "## A basic 1D plot"
   ]
  },
  {
   "cell_type": "code",
   "execution_count": null,
   "id": "d7acd32f-8190-474d-bdda-63b86d420e97",
   "metadata": {},
   "outputs": [],
   "source": [
    "x = np.linspace(0, 2*np.pi)\n",
    "y = np.sin(x)\n",
    "\n",
    "plt.plot(x, y)"
   ]
  },
  {
   "cell_type": "markdown",
   "id": "810a1998-e20b-4778-9364-326bf64e5bca",
   "metadata": {},
   "source": [
    "### Labels and titles"
   ]
  },
  {
   "cell_type": "code",
   "execution_count": null,
   "id": "54b34100-72a0-4202-9a97-a73f67fafbd4",
   "metadata": {},
   "outputs": [],
   "source": [
    "plt.plot(x, y)\n",
    "plt.xlabel('x')\n",
    "plt.ylabel('sin(x)')\n",
    "plt.title('My plot')"
   ]
  },
  {
   "cell_type": "markdown",
   "id": "2088709b-6a8e-428e-9b89-e7e8e57fc981",
   "metadata": {},
   "source": [
    "### Axis limits and ticks"
   ]
  },
  {
   "cell_type": "code",
   "execution_count": null,
   "id": "0b166f31-f3c3-49e7-ab8b-d4d0ca685266",
   "metadata": {},
   "outputs": [],
   "source": [
    "plt.plot(x, y)\n",
    "plt.xlim(0, np.pi)\n",
    "plt.ylim(-0.25, 1.25)\n",
    "\n",
    "plt.xticks(\n",
    "    [0, np.pi/2, np.pi],\n",
    "    ['0', r'$\\frac{\\pi}{2}$', r'$\\pi$']\n",
    ")\n",
    "\n",
    "plt.title('My plot')"
   ]
  },
  {
   "cell_type": "markdown",
   "id": "6aeae41a-9fa8-4c0f-8f5f-b8e95e576021",
   "metadata": {
    "tags": []
   },
   "source": [
    "### Plotting arguments\n",
    "* 'color' or 'c': either an RGB triple or a color name\n",
    "* 'linestyle' or 'ls': Use one of '-', '--', '-.', ':', or '' for solid, dashed, dash-dotted, dotted lines, or no line.\n",
    "* 'linewidth' or 'lw': linewidth\n",
    "* 'marker': use one of '*', '.', 'o', 's', etc\n",
    "* 'alpha': set transparency."
   ]
  },
  {
   "cell_type": "code",
   "execution_count": null,
   "id": "38aa6569-a0da-45d6-8ef4-d05899f9c03f",
   "metadata": {},
   "outputs": [],
   "source": [
    "x_sparse = np.linspace(0, 2*np.pi, 21)\n",
    "y_sparse = np.sin(x_sparse)\n",
    "plt.plot(\n",
    "    x_sparse, y_sparse, color='b', ls=':', lw=2,\n",
    "    marker='*', markerfacecolor='magenta', markeredgecolor='magenta',\n",
    "    alpha=0.7\n",
    ")\n",
    "\n",
    "plt.title('Plot with extra arguments')\n",
    "plt.xlabel('x')\n",
    "plt.ylabel('y')\n",
    "plt.legend()"
   ]
  },
  {
   "cell_type": "markdown",
   "id": "8c69d6ed-4a92-4de2-87f6-fa25a8ef9920",
   "metadata": {},
   "source": [
    "### Legends and grids\n",
    "Add the \"label\" keyword to the plotting function.\n",
    "Note that in legends, titles and axis labels we can also use latex formatting by using raw strings (prefaced with r)."
   ]
  },
  {
   "cell_type": "code",
   "execution_count": null,
   "id": "5c7fe126-776e-44e1-9871-93fb20d26553",
   "metadata": {},
   "outputs": [],
   "source": [
    "z = np.sqrt(x) - 1\n",
    "\n",
    "plt.plot(x, y, label=r'y = $\\sin(x)$')\n",
    "plt.plot(x, z, label=r'y = $\\sqrt{x} - 1$')\n",
    "plt.legend(loc='center right')\n",
    "plt.grid()"
   ]
  },
  {
   "cell_type": "markdown",
   "id": "38e58fc4-e62e-4d3f-bd98-d2faf6b38c03",
   "metadata": {},
   "source": [
    "## Log-scale plots\n",
    "We can use plt.semilogy, plt.semilogx, or plt.loglog to produce log-scale axes."
   ]
  },
  {
   "cell_type": "code",
   "execution_count": null,
   "id": "b90e4222-fef1-41ae-8539-629b76a8826b",
   "metadata": {},
   "outputs": [],
   "source": [
    "t = np.linspace(1, 10)\n",
    "y1 = 1/t**2\n",
    "y2 = 1/t\n",
    "plt.loglog(t, y1, label=r'$t^{-2}$')\n",
    "plt.loglog(t, y2, label=r'$t^{-1}$')\n",
    "\n",
    "plt.title('loglog plot')\n",
    "plt.xlabel('t')\n",
    "plt.ylabel('y')\n",
    "plt.legend()"
   ]
  },
  {
   "cell_type": "code",
   "execution_count": null,
   "id": "ec75b548-8f9e-436e-acf6-0de525f9fe7b",
   "metadata": {},
   "outputs": [],
   "source": [
    "y3 = np.exp(t)\n",
    "plt.semilogy(t, y3, label=r'$e^t$')\n",
    "\n",
    "plt.title('semilogy plot')\n",
    "plt.xlabel('t')\n",
    "plt.ylabel('y')\n",
    "plt.legend()"
   ]
  },
  {
   "cell_type": "markdown",
   "id": "77d005aa-2e31-4352-b419-a64513a4fec6",
   "metadata": {},
   "source": [
    "## The object-oriented syntax:"
   ]
  },
  {
   "cell_type": "code",
   "execution_count": null,
   "id": "b58f04ed-6ad8-4ae0-ba9c-06de7a3fe878",
   "metadata": {},
   "outputs": [],
   "source": [
    "fig, ax = plt.subplots()\n",
    "ax.plot(x, y, color='magenta', ls='-.', lw=5)\n",
    "\n",
    "ax.set(\n",
    "    title='My plot',\n",
    "    xlabel='x',\n",
    "    ylabel='sin(x)',\n",
    "    # xlim=(\n",
    ")"
   ]
  },
  {
   "cell_type": "markdown",
   "id": "c69010a3-ce35-4b35-8245-0d86e960e461",
   "metadata": {},
   "source": [
    "### Multiple subplots:\n",
    "\n",
    "Using `ncols` keyword in plt.subplots() results in an array of axes being returned:"
   ]
  },
  {
   "cell_type": "code",
   "execution_count": null,
   "id": "91a8e00e-3b77-47a0-a3e1-5473d960478d",
   "metadata": {},
   "outputs": [],
   "source": [
    "fig, axes = plt.subplots(ncols=2, figsize=(12,4))\n",
    "\n",
    "axes[0].plot(y)\n",
    "axes[1].plot(np.random.random(50))\n",
    "\n",
    "axes[0].set(title='Axis 0')\n",
    "axes[1].set(title='Axis 1')"
   ]
  },
  {
   "cell_type": "markdown",
   "id": "c80e1a4e-0c04-42ff-8312-217d570df9f3",
   "metadata": {},
   "source": [
    "If you use both ncols and nrows, axes will be a 2D array:"
   ]
  },
  {
   "cell_type": "code",
   "execution_count": null,
   "id": "7ae0a51b-e9c1-4a09-ba3a-fe533dd4c297",
   "metadata": {},
   "outputs": [],
   "source": [
    "fig, axes = plt.subplots(ncols=2, nrows=2, figsize=(12,8))\n",
    "\n",
    "axes[0, 0].plot(x, y)\n",
    "axes[0, 1].plot(x, np.random.random(50))\n",
    "axes[1, 0].plot(x, x)\n",
    "axes[1, 1].plot(x, np.log(x + 1))\n",
    "\n",
    "fig.tight_layout()"
   ]
  },
  {
   "cell_type": "markdown",
   "id": "de687d32-4c24-4aa0-bf48-e622e667143b",
   "metadata": {},
   "source": [
    "Use axes.ravel() to change axes into a 1D list:"
   ]
  },
  {
   "cell_type": "code",
   "execution_count": null,
   "id": "07ce483f-91d5-4155-94ff-72790b0e4176",
   "metadata": {},
   "outputs": [],
   "source": [
    "fig, axes = plt.subplots(ncols=2, nrows=2, figsize=(12,8))\n",
    "axes = axes.ravel()\n",
    "\n",
    "axes[0].plot(x, y)\n",
    "axes[1].plot(x, np.random.random(50))\n",
    "axes[2].plot(x, x)\n",
    "axes[3].plot(x, np.log(x + 1))\n",
    "\n",
    "fig.tight_layout()"
   ]
  },
  {
   "cell_type": "markdown",
   "id": "67700c3b-7c8d-4250-9ce4-7e70f824b8d7",
   "metadata": {},
   "source": [
    "## Saving figures"
   ]
  },
  {
   "cell_type": "code",
   "execution_count": null,
   "id": "44f74907-e362-4347-9897-0cd153bec74f",
   "metadata": {},
   "outputs": [],
   "source": [
    "plt.savefig('figure.svg')"
   ]
  },
  {
   "cell_type": "markdown",
   "id": "9552ccb2-e5c0-49da-b5b4-15cf43c84d31",
   "metadata": {},
   "source": [
    "## Histograms"
   ]
  },
  {
   "cell_type": "code",
   "execution_count": null,
   "id": "9c0125bc-a508-4a0d-9f6f-d5e1bb029695",
   "metadata": {},
   "outputs": [],
   "source": [
    "x = np.random.normal(size=1000)\n",
    "plt.hist(x, bins=50, density=True, alpha=0.9);"
   ]
  },
  {
   "cell_type": "markdown",
   "id": "ac155496-78f4-4c37-a204-526b10f5e1aa",
   "metadata": {},
   "source": [
    "## 2D Plots"
   ]
  },
  {
   "cell_type": "markdown",
   "id": "a5502b13-3937-4935-8cc5-aa5a4611d21e",
   "metadata": {},
   "source": [
    "If we want to plot 2D data, we need to create numpy 2D grids of x and y values. This is done using the np.meshgrid function:"
   ]
  },
  {
   "cell_type": "code",
   "execution_count": null,
   "id": "e1110ec2-7a51-4a70-b090-fd1e9c9936bf",
   "metadata": {},
   "outputs": [],
   "source": [
    "y = np.arange(0, 5, 0.1)\n",
    "x = np.linspace(-np.pi, np.pi, num=101)\n",
    "\n",
    "X, Y = np.meshgrid(x, y)\n",
    "print(X)\n",
    "print(Y)"
   ]
  },
  {
   "cell_type": "markdown",
   "id": "a827fa2d-58e6-4c97-8d56-fc36b5db8178",
   "metadata": {},
   "source": [
    "Because our arrays X and Y have the same shape, they can be [broadcasted](https://numpy.org/doc/stable/user/basics.broadcasting.html) with each other."
   ]
  },
  {
   "cell_type": "code",
   "execution_count": null,
   "id": "65fe74f5-55ed-4804-bfb5-e1fb44ffd0dd",
   "metadata": {},
   "outputs": [],
   "source": [
    "Z = np.sin(X) + Y\n",
    "Z"
   ]
  },
  {
   "cell_type": "markdown",
   "id": "edbee7ac-887c-48bc-9112-ea9534bd0a32",
   "metadata": {},
   "source": [
    "### Pcolormesh"
   ]
  },
  {
   "cell_type": "code",
   "execution_count": null,
   "id": "db80af8d-7afc-49a9-ba39-646ec7e40265",
   "metadata": {},
   "outputs": [],
   "source": [
    "plt.pcolormesh(X, Y, Z, vmin=-1, vmax=6, cmap='Spectral_r')\n",
    "plt.xlabel('x')\n",
    "plt.ylabel('y')\n",
    "plt.title('2D meshgrid')\n",
    "\n",
    "cb = plt.colorbar()\n",
    "cb.set_label(r'$z = x + \\sin(y)$')"
   ]
  },
  {
   "cell_type": "markdown",
   "id": "a7a536b2-b757-4261-bcaf-6020c21cbb1f",
   "metadata": {},
   "source": [
    "### Contourf\n",
    "If we want to map the contours, use plt.contour or plt.contourf (filled contours). The syntax is pretty much the same as for plt.pcolormesh, so here we'll show the same thing using the object-oriented pyplot syntax:"
   ]
  },
  {
   "cell_type": "code",
   "execution_count": null,
   "id": "1a05a90d-def8-43a0-adcf-ba385d9e2a10",
   "metadata": {},
   "outputs": [],
   "source": [
    "fig, ax = plt.subplots()\n",
    "\n",
    "cax = ax.contourf(X, Y, Z, vmin=-1, vmax=6, cmap='Spectral_r', levels=20)\n",
    "\n",
    "ax.set(xlabel='x', ylabel='y', title='2D contourf')\n",
    "\n",
    "cb = fig.colorbar(cax, ax=ax)\n",
    "cb.set_label(r'$z = x + \\sin(y)$')"
   ]
  },
  {
   "cell_type": "markdown",
   "id": "d2aa0590-2099-4516-ba11-fff527842171",
   "metadata": {},
   "source": [
    "### Choosing colormaps\n",
    "\n",
    "Apply the 'cmap' kwarg."
   ]
  },
  {
   "cell_type": "code",
   "execution_count": null,
   "id": "934aae9b-24ca-44c0-8aeb-6866dedb18e9",
   "metadata": {},
   "outputs": [],
   "source": [
    "# Add _r to end to reverse colormap direction\n",
    "cmaps = ['viridis', 'plasma', 'hot', 'Spectral_r', \n",
    "         'RdBu_r', 'PiYG', 'coolwarm', 'twilight']\n",
    "\n",
    "fig, axes = plt.subplots(ncols=4, nrows=2, figsize=(12,6))\n",
    "axes = axes.ravel()\n",
    "\n",
    "for i, ax in enumerate(axes):\n",
    "    cax = ax.contourf(X, Y, Z, cmap=cmaps[i], vmin=-1, vmax=6, levels=20)\n",
    "    ax.set(title=cmaps[i])\n",
    "    \n",
    "fig.tight_layout()"
   ]
  },
  {
   "cell_type": "markdown",
   "id": "12bd014b-0f8e-42af-a8e1-27f3221aac70",
   "metadata": {},
   "source": [
    "### Using the 3D projection:"
   ]
  },
  {
   "cell_type": "code",
   "execution_count": null,
   "id": "c96f382f-6728-4d23-bd89-8bf833552518",
   "metadata": {},
   "outputs": [],
   "source": [
    "fig, ax = plt.subplots(subplot_kw={'projection':'3d'})\n",
    "\n",
    "cax = ax.plot_surface(X, Y, Z, cmap='Spectral_r', vmin=-1, vmax=6)\n",
    "\n",
    "ax.set(xlabel='x', ylabel='y', zlabel='z', title='3D surface')\n",
    "\n",
    "cb = fig.colorbar(cax, ax=ax)\n",
    "\n",
    "fig.tight_layout()"
   ]
  },
  {
   "cell_type": "markdown",
   "id": "7de63fa8-5c5b-4120-92de-8eddfcc77c83",
   "metadata": {},
   "source": [
    "## Other pyplot modules:\n",
    "\n",
    "Matplotlib is a huge module. Here are just a few examples of plots you can create using matplotlib:\n",
    "\n",
    "1D data (x vs y)\n",
    "* `scatter`\n",
    "* `hline`\n",
    "* `vline`\n",
    "* `bar`\n",
    "* `polar`\n",
    "\n",
    "2D data\n",
    "* `imshow`\n",
    "* `streamplot`\n",
    "* `matshow`\n",
    "\n",
    "Statistics\n",
    "* `boxplot`\n",
    "* `pie`\n",
    "* `errorbar`"
   ]
  },
  {
   "cell_type": "markdown",
   "id": "6cf27c0b-86ed-426c-a79c-0b2b7143cacf",
   "metadata": {},
   "source": [
    "## References\n",
    "* [matplotlib intro tutorial](https://matplotlib.org/stable/tutorials/introductory/index.html)\n",
    "* [matplotlib documentation](https://matplotlib.org/stable/index.html)"
   ]
  },
  {
   "cell_type": "code",
   "execution_count": null,
   "id": "ad30c52c-2667-4ff5-919d-1028ede776ab",
   "metadata": {},
   "outputs": [],
   "source": []
  }
 ],
 "metadata": {
  "kernelspec": {
   "display_name": "pangeo",
   "language": "python",
   "name": "pangeo"
  },
  "language_info": {
   "codemirror_mode": {
    "name": "ipython",
    "version": 3
   },
   "file_extension": ".py",
   "mimetype": "text/x-python",
   "name": "python",
   "nbconvert_exporter": "python",
   "pygments_lexer": "ipython3",
   "version": "3.8.5"
  }
 },
 "nbformat": 4,
 "nbformat_minor": 5
}
