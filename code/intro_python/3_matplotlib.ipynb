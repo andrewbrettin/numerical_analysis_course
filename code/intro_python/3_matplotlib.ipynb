{
 "cells": [
  {
   "cell_type": "markdown",
   "id": "164688dd-06a4-4e4a-a1a2-e3ef225d3a73",
   "metadata": {},
   "source": [
    "# Introduction to matplotlib\n",
    "Matplotlib is a plotting module for python based on the syntax from MATLAB."
   ]
  },
  {
   "cell_type": "code",
   "execution_count": null,
   "id": "473b6a21-e7a2-44cd-90dd-3168482e7b36",
   "metadata": {},
   "outputs": [],
   "source": [
    "import numpy as np\n",
    "import matplotlib.pyplot as plt"
   ]
  },
  {
   "cell_type": "markdown",
   "id": "0d0b8157-a10e-4f39-b58b-74248c642afe",
   "metadata": {},
   "source": [
    "## Basics"
   ]
  },
  {
   "cell_type": "code",
   "execution_count": null,
   "id": "d7acd32f-8190-474d-bdda-63b86d420e97",
   "metadata": {},
   "outputs": [],
   "source": [
    "x = np.linspace(0, 2*np.pi)\n",
    "y = np.sin(x)\n",
    "\n",
    "plt.plot(x, y)"
   ]
  },
  {
   "cell_type": "markdown",
   "id": "810a1998-e20b-4778-9364-326bf64e5bca",
   "metadata": {},
   "source": [
    "## Labels and titles"
   ]
  },
  {
   "cell_type": "code",
   "execution_count": null,
   "id": "54b34100-72a0-4202-9a97-a73f67fafbd4",
   "metadata": {},
   "outputs": [],
   "source": [
    "plt.plot(x, y)\n",
    "plt.xlabel('x')\n",
    "plt.ylabel('sin(x)')\n",
    "plt.title('My plot')"
   ]
  },
  {
   "cell_type": "markdown",
   "id": "2088709b-6a8e-428e-9b89-e7e8e57fc981",
   "metadata": {},
   "source": [
    "## Axis limits and ticks"
   ]
  },
  {
   "cell_type": "code",
   "execution_count": null,
   "id": "0b166f31-f3c3-49e7-ab8b-d4d0ca685266",
   "metadata": {},
   "outputs": [],
   "source": [
    "plt.plot(x, y)\n",
    "plt.xlim(0, np.pi)\n",
    "plt.ylim(-0.25, 1.25)\n",
    "\n",
    "plt.xticks(\n",
    "    [0, np.pi/2, np.pi],\n",
    "    ['0', r'$\\frac{\\pi}{2}$', r'$\\pi$']\n",
    ")\n",
    "plt.title('My plot')"
   ]
  },
  {
   "cell_type": "markdown",
   "id": "6aeae41a-9fa8-4c0f-8f5f-b8e95e576021",
   "metadata": {},
   "source": [
    "## Plotting arguments\n",
    "* 'color' or 'c': either an RGB triple or a color name\n",
    "* 'linestyle' or 'ls': Use one of '-', '--', '-.', ':', or '' for solid, dashed, dash-dotted, dotted lines, or no line.\n",
    "* 'linewidth' or 'lw': linewidth\n",
    "* 'marker': use one of '*', '.', 'o', 's', etc"
   ]
  },
  {
   "cell_type": "code",
   "execution_count": null,
   "id": "38aa6569-a0da-45d6-8ef4-d05899f9c03f",
   "metadata": {},
   "outputs": [],
   "source": [
    "plt.plot(x, y, color='magenta', ls=':', lw=0.5, marker='*')"
   ]
  },
  {
   "cell_type": "markdown",
   "id": "8c69d6ed-4a92-4de2-87f6-fa25a8ef9920",
   "metadata": {},
   "source": [
    "## Legends and grids\n",
    "Add the \"label\" keyword to the plotting function.\n",
    "Note that in legends, titles and axis labels we can also use latex formatting by using raw strings (prefaced with r)."
   ]
  },
  {
   "cell_type": "code",
   "execution_count": null,
   "id": "5c7fe126-776e-44e1-9871-93fb20d26553",
   "metadata": {},
   "outputs": [],
   "source": [
    "z = np.sqrt(x) - 1\n",
    "\n",
    "plt.plot(x, y, label=r'y = $\\sin(x)$')\n",
    "plt.plot(x, z, label=r'y = $\\sqrt{x} - 1$')\n",
    "plt.legend(loc='upper right')\n",
    "plt.grid()"
   ]
  },
  {
   "cell_type": "markdown",
   "id": "38e58fc4-e62e-4d3f-bd98-d2faf6b38c03",
   "metadata": {},
   "source": [
    "## Log-scale plots\n",
    "We can use plt.semilogy, plt.semilogx, or plt.loglog to produce log-scale axes."
   ]
  },
  {
   "cell_type": "code",
   "execution_count": null,
   "id": "b90e4222-fef1-41ae-8539-629b76a8826b",
   "metadata": {},
   "outputs": [],
   "source": [
    "x = np.linspace(1, 100)\n",
    "inv_x = 1/x\n",
    "plt.semilogy(x, inv_x)"
   ]
  },
  {
   "cell_type": "markdown",
   "id": "77d005aa-2e31-4352-b419-a64513a4fec6",
   "metadata": {},
   "source": [
    "## The object-oriented syntax:"
   ]
  },
  {
   "cell_type": "code",
   "execution_count": null,
   "id": "b58f04ed-6ad8-4ae0-ba9c-06de7a3fe878",
   "metadata": {},
   "outputs": [],
   "source": [
    "fig, ax = plt.subplots()\n",
    "ax.plot(x, y, color='magenta', ls='-.', lw=5)\n",
    "\n",
    "ax.set(\n",
    "    title='My plot',\n",
    "    xlabel='x',\n",
    "    ylabel='sin(x)'\n",
    ")"
   ]
  },
  {
   "cell_type": "markdown",
   "id": "c69010a3-ce35-4b35-8245-0d86e960e461",
   "metadata": {},
   "source": [
    "### Multiple subplots:"
   ]
  },
  {
   "cell_type": "code",
   "execution_count": null,
   "id": "91a8e00e-3b77-47a0-a3e1-5473d960478d",
   "metadata": {},
   "outputs": [],
   "source": [
    "fig, axes = plt.subplots(ncols=2, figsize=(12,4))\n",
    "\n",
    "axes[0].plot(y)\n",
    "axes[1].plot(np.random.random(50))\n",
    "\n",
    "axes[0].set(title='Axis 0')\n",
    "axes[1].set(title='Axis 1')"
   ]
  },
  {
   "cell_type": "code",
   "execution_count": null,
   "id": "07ce483f-91d5-4155-94ff-72790b0e4176",
   "metadata": {},
   "outputs": [],
   "source": [
    "fig, axes = plt.subplots(ncols=2, nrows=2, figsize=(12,8))\n",
    "axes = axes.ravel()\n",
    "\n",
    "axes[0].plot(x, y)\n",
    "axes[1].plot(x, np.random.random(50))\n",
    "axes[2].plot(x, x)\n",
    "axes[3].plot(x, np.log(x + 1))\n",
    "\n",
    "fig.tight_layout()"
   ]
  },
  {
   "cell_type": "markdown",
   "id": "67700c3b-7c8d-4250-9ce4-7e70f824b8d7",
   "metadata": {},
   "source": [
    "## Saving figures"
   ]
  },
  {
   "cell_type": "code",
   "execution_count": null,
   "id": "44f74907-e362-4347-9897-0cd153bec74f",
   "metadata": {},
   "outputs": [],
   "source": [
    "plt.savefig('figure.svg')"
   ]
  },
  {
   "cell_type": "markdown",
   "id": "7de63fa8-5c5b-4120-92de-8eddfcc77c83",
   "metadata": {},
   "source": [
    "## Other pyplot modules:\n",
    "\n",
    "Matplotlib is a huge module. Here are just a few examples of plots you can create using matplotlib:\n",
    "\n",
    "1D data (x vs y)\n",
    "* `scatter`\n",
    "* `hline`\n",
    "* `vline`\n",
    "* `bar`\n",
    "\n",
    "2D data\n",
    "* `pcolormesh`\n",
    "* `contourf`\n",
    "* `streamplot`\n",
    "\n",
    "Statistics\n",
    "* `hist`\n",
    "* `errorbar`\n",
    "* `pie`"
   ]
  },
  {
   "cell_type": "markdown",
   "id": "6cf27c0b-86ed-426c-a79c-0b2b7143cacf",
   "metadata": {},
   "source": [
    "## References\n",
    "* [matplotlib intro tutorial](https://matplotlib.org/stable/tutorials/introductory/index.html)\n",
    "* [matplotlib documentation](https://matplotlib.org/stable/index.html)"
   ]
  },
  {
   "cell_type": "code",
   "execution_count": null,
   "id": "ad30c52c-2667-4ff5-919d-1028ede776ab",
   "metadata": {},
   "outputs": [],
   "source": []
  }
 ],
 "metadata": {
  "kernelspec": {
   "display_name": "pangeo",
   "language": "python",
   "name": "pangeo"
  },
  "language_info": {
   "codemirror_mode": {
    "name": "ipython",
    "version": 3
   },
   "file_extension": ".py",
   "mimetype": "text/x-python",
   "name": "python",
   "nbconvert_exporter": "python",
   "pygments_lexer": "ipython3",
   "version": "3.8.5"
  }
 },
 "nbformat": 4,
 "nbformat_minor": 5
}
