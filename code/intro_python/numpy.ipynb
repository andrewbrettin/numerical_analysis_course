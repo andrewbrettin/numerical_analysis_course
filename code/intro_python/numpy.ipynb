{
 "cells": [
  {
   "cell_type": "markdown",
   "id": "45d1e70e-4793-45b7-a6e4-9858151dff77",
   "metadata": {},
   "source": [
    "# Introduction to numpy\n",
    "\n",
    "Numpy is a package which has mathematical functions and data structures for dealing with vectors."
   ]
  },
  {
   "cell_type": "code",
   "execution_count": 3,
   "id": "1b896693-5947-43f5-9c74-391dfa24fd8b",
   "metadata": {},
   "outputs": [],
   "source": [
    "import numpy as np"
   ]
  },
  {
   "cell_type": "markdown",
   "id": "7884d608-819a-411a-b6c8-a1a3b6f7b089",
   "metadata": {},
   "source": [
    "## Example constants and functions in numpy:"
   ]
  },
  {
   "cell_type": "code",
   "execution_count": 4,
   "id": "b4180c3b-d712-473e-8f43-db017ceaf146",
   "metadata": {},
   "outputs": [
    {
     "name": "stdout",
     "output_type": "stream",
     "text": [
      "3.141592653589793\n",
      "2.718281828459045\n"
     ]
    }
   ],
   "source": [
    "# Example constants\n",
    "print(np.pi)\n",
    "print(np.e)"
   ]
  },
  {
   "cell_type": "code",
   "execution_count": 5,
   "id": "c1ecbdde-3f8e-4a23-91a5-143a6b50d46a",
   "metadata": {},
   "outputs": [
    {
     "name": "stdout",
     "output_type": "stream",
     "text": [
      "1.4142135623730951\n"
     ]
    }
   ],
   "source": [
    "# Example functions\n",
    "print(np.sqrt(2))"
   ]
  },
  {
   "cell_type": "code",
   "execution_count": 6,
   "id": "a4f66da1-585a-44f2-8cc6-004f0c59bbde",
   "metadata": {},
   "outputs": [
    {
     "name": "stdout",
     "output_type": "stream",
     "text": [
      "1.0\n",
      "7.38905609893065\n",
      "3.0\n"
     ]
    }
   ],
   "source": [
    "print(np.sin(np.pi / 2))\n",
    "print(np.exp(2))\n",
    "print(np.log10(1000))"
   ]
  },
  {
   "cell_type": "markdown",
   "id": "7fc15275-6e48-4dae-9ab7-af789c25ad5c",
   "metadata": {},
   "source": [
    "## 1D Arrays\n",
    "* `np.array`\n",
    "* `np.arange`\n",
    "* `np.linspace`\n",
    "* Slicing and indexing arrays"
   ]
  },
  {
   "cell_type": "markdown",
   "id": "62fe2194-594f-4278-8c0f-8c53d7b2af2e",
   "metadata": {},
   "source": [
    "### Why numpy arrays?\n",
    "We need numpy to deal with arrays of numbers in a mathematical way."
   ]
  },
  {
   "cell_type": "code",
   "execution_count": 7,
   "id": "e05f5fed-78a1-4736-853a-ba59b0f017f8",
   "metadata": {},
   "outputs": [
    {
     "data": {
      "text/plain": [
       "[1, 2, 3, 1, 2, 3]"
      ]
     },
     "execution_count": 7,
     "metadata": {},
     "output_type": "execute_result"
    }
   ],
   "source": [
    "# Using python lists results in bad math:\n",
    "[1, 2, 3] + [1, 2, 3]"
   ]
  },
  {
   "cell_type": "code",
   "execution_count": 8,
   "id": "e49a4916-841f-4d67-9f9a-9d9b9ef6ba66",
   "metadata": {},
   "outputs": [
    {
     "data": {
      "text/plain": [
       "array([2, 4, 6])"
      ]
     },
     "execution_count": 8,
     "metadata": {},
     "output_type": "execute_result"
    }
   ],
   "source": [
    "# Math works the way you would expect with numpy arrays:\n",
    "np.array([1, 2, 3]) + np.array([1, 2, 3])"
   ]
  },
  {
   "cell_type": "markdown",
   "id": "ce690445-5eae-408d-8cc5-a30e13033615",
   "metadata": {},
   "source": [
    "Numpy functions work elementwise on arrays:"
   ]
  },
  {
   "cell_type": "code",
   "execution_count": 9,
   "id": "9003997e-2e24-4101-b47d-d152ff26b9d4",
   "metadata": {},
   "outputs": [
    {
     "data": {
      "text/plain": [
       "array([  2.71828183,   7.3890561 ,  20.08553692,  54.59815003,\n",
       "       148.4131591 ])"
      ]
     },
     "execution_count": 9,
     "metadata": {},
     "output_type": "execute_result"
    }
   ],
   "source": [
    "arr = np.array([1, 2, 3, 4, 5])\n",
    "np.exp(arr)"
   ]
  },
  {
   "cell_type": "markdown",
   "id": "f5e9ecc7-0490-4710-86ef-f92ada74f894",
   "metadata": {},
   "source": [
    "### np.arange\n",
    "Use np.arange for ranges of numbers:"
   ]
  },
  {
   "cell_type": "code",
   "execution_count": 10,
   "id": "43b3a12f-be3e-4c93-b501-bcf963ca09a1",
   "metadata": {},
   "outputs": [
    {
     "data": {
      "text/plain": [
       "array([0, 1, 2, 3, 4])"
      ]
     },
     "execution_count": 10,
     "metadata": {},
     "output_type": "execute_result"
    }
   ],
   "source": [
    "np.arange(5)"
   ]
  },
  {
   "cell_type": "code",
   "execution_count": 11,
   "id": "1a4faa7f-8c03-4922-8ce9-34eb96fff12c",
   "metadata": {},
   "outputs": [
    {
     "data": {
      "text/plain": [
       "array([5, 6, 7, 8, 9])"
      ]
     },
     "execution_count": 11,
     "metadata": {},
     "output_type": "execute_result"
    }
   ],
   "source": [
    "np.arange(5, 10)"
   ]
  },
  {
   "cell_type": "code",
   "execution_count": 12,
   "id": "a36d70f9-bb11-408b-9d84-605e30299a46",
   "metadata": {},
   "outputs": [
    {
     "data": {
      "text/plain": [
       "array([0, 3, 6, 9])"
      ]
     },
     "execution_count": 12,
     "metadata": {},
     "output_type": "execute_result"
    }
   ],
   "source": [
    "np.arange(0, 10, 3)"
   ]
  },
  {
   "cell_type": "code",
   "execution_count": 13,
   "id": "37f7324e-bcce-4ed8-a469-092cd41bd42e",
   "metadata": {},
   "outputs": [
    {
     "data": {
      "text/plain": [
       "array([100,  99,  98,  97,  96,  95,  94,  93,  92,  91])"
      ]
     },
     "execution_count": 13,
     "metadata": {},
     "output_type": "execute_result"
    }
   ],
   "source": [
    "np.arange(100, 90, -1)"
   ]
  },
  {
   "cell_type": "markdown",
   "id": "994d7286-f297-4f89-a13e-8ab3aef27f63",
   "metadata": {},
   "source": [
    "Note: you can get information about a class or function by calling help() on it:"
   ]
  },
  {
   "cell_type": "code",
   "execution_count": 14,
   "id": "b02aaad8-a4bc-4c5f-84dc-fde8607950c8",
   "metadata": {
    "tags": []
   },
   "outputs": [
    {
     "name": "stdout",
     "output_type": "stream",
     "text": [
      "Help on built-in function arange in module numpy:\n",
      "\n",
      "arange(...)\n",
      "    arange([start,] stop[, step,], dtype=None)\n",
      "    \n",
      "    Return evenly spaced values within a given interval.\n",
      "    \n",
      "    Values are generated within the half-open interval ``[start, stop)``\n",
      "    (in other words, the interval including `start` but excluding `stop`).\n",
      "    For integer arguments the function is equivalent to the Python built-in\n",
      "    `range` function, but returns an ndarray rather than a list.\n",
      "    \n",
      "    When using a non-integer step, such as 0.1, the results will often not\n",
      "    be consistent.  It is better to use `numpy.linspace` for these cases.\n",
      "    \n",
      "    Parameters\n",
      "    ----------\n",
      "    start : number, optional\n",
      "        Start of interval.  The interval includes this value.  The default\n",
      "        start value is 0.\n",
      "    stop : number\n",
      "        End of interval.  The interval does not include this value, except\n",
      "        in some cases where `step` is not an integer and floating point\n",
      "        round-off affects the length of `out`.\n",
      "    step : number, optional\n",
      "        Spacing between values.  For any output `out`, this is the distance\n",
      "        between two adjacent values, ``out[i+1] - out[i]``.  The default\n",
      "        step size is 1.  If `step` is specified as a position argument,\n",
      "        `start` must also be given.\n",
      "    dtype : dtype\n",
      "        The type of the output array.  If `dtype` is not given, infer the data\n",
      "        type from the other input arguments.\n",
      "    \n",
      "    Returns\n",
      "    -------\n",
      "    arange : ndarray\n",
      "        Array of evenly spaced values.\n",
      "    \n",
      "        For floating point arguments, the length of the result is\n",
      "        ``ceil((stop - start)/step)``.  Because of floating point overflow,\n",
      "        this rule may result in the last element of `out` being greater\n",
      "        than `stop`.\n",
      "    \n",
      "    See Also\n",
      "    --------\n",
      "    numpy.linspace : Evenly spaced numbers with careful handling of endpoints.\n",
      "    numpy.ogrid: Arrays of evenly spaced numbers in N-dimensions.\n",
      "    numpy.mgrid: Grid-shaped arrays of evenly spaced numbers in N-dimensions.\n",
      "    \n",
      "    Examples\n",
      "    --------\n",
      "    >>> np.arange(3)\n",
      "    array([0, 1, 2])\n",
      "    >>> np.arange(3.0)\n",
      "    array([ 0.,  1.,  2.])\n",
      "    >>> np.arange(3,7)\n",
      "    array([3, 4, 5, 6])\n",
      "    >>> np.arange(3,7,2)\n",
      "    array([3, 5])\n",
      "\n"
     ]
    }
   ],
   "source": [
    "help(np.arange)"
   ]
  },
  {
   "cell_type": "markdown",
   "id": "adbee91a-7148-456d-850a-5e52d0a41c8f",
   "metadata": {},
   "source": [
    "In jupyterlab, you can also use the question mark operator:"
   ]
  },
  {
   "cell_type": "code",
   "execution_count": 15,
   "id": "f7d7af27-c64d-4f53-bfc2-b818880129c4",
   "metadata": {
    "tags": []
   },
   "outputs": [
    {
     "data": {
      "text/plain": [
       "\u001b[0;31mDocstring:\u001b[0m\n",
       "arange([start,] stop[, step,], dtype=None)\n",
       "\n",
       "Return evenly spaced values within a given interval.\n",
       "\n",
       "Values are generated within the half-open interval ``[start, stop)``\n",
       "(in other words, the interval including `start` but excluding `stop`).\n",
       "For integer arguments the function is equivalent to the Python built-in\n",
       "`range` function, but returns an ndarray rather than a list.\n",
       "\n",
       "When using a non-integer step, such as 0.1, the results will often not\n",
       "be consistent.  It is better to use `numpy.linspace` for these cases.\n",
       "\n",
       "Parameters\n",
       "----------\n",
       "start : number, optional\n",
       "    Start of interval.  The interval includes this value.  The default\n",
       "    start value is 0.\n",
       "stop : number\n",
       "    End of interval.  The interval does not include this value, except\n",
       "    in some cases where `step` is not an integer and floating point\n",
       "    round-off affects the length of `out`.\n",
       "step : number, optional\n",
       "    Spacing between values.  For any output `out`, this is the distance\n",
       "    between two adjacent values, ``out[i+1] - out[i]``.  The default\n",
       "    step size is 1.  If `step` is specified as a position argument,\n",
       "    `start` must also be given.\n",
       "dtype : dtype\n",
       "    The type of the output array.  If `dtype` is not given, infer the data\n",
       "    type from the other input arguments.\n",
       "\n",
       "Returns\n",
       "-------\n",
       "arange : ndarray\n",
       "    Array of evenly spaced values.\n",
       "\n",
       "    For floating point arguments, the length of the result is\n",
       "    ``ceil((stop - start)/step)``.  Because of floating point overflow,\n",
       "    this rule may result in the last element of `out` being greater\n",
       "    than `stop`.\n",
       "\n",
       "See Also\n",
       "--------\n",
       "numpy.linspace : Evenly spaced numbers with careful handling of endpoints.\n",
       "numpy.ogrid: Arrays of evenly spaced numbers in N-dimensions.\n",
       "numpy.mgrid: Grid-shaped arrays of evenly spaced numbers in N-dimensions.\n",
       "\n",
       "Examples\n",
       "--------\n",
       ">>> np.arange(3)\n",
       "array([0, 1, 2])\n",
       ">>> np.arange(3.0)\n",
       "array([ 0.,  1.,  2.])\n",
       ">>> np.arange(3,7)\n",
       "array([3, 4, 5, 6])\n",
       ">>> np.arange(3,7,2)\n",
       "array([3, 5])\n",
       "\u001b[0;31mType:\u001b[0m      builtin_function_or_method\n"
      ]
     },
     "metadata": {},
     "output_type": "display_data"
    }
   ],
   "source": [
    "np.arange?"
   ]
  },
  {
   "cell_type": "markdown",
   "id": "68c86df0-3ad6-4709-8226-b8a1ef83f5df",
   "metadata": {},
   "source": [
    "### np.linspace\n",
    "Use np.linspace to linearly interpolate between two numbers"
   ]
  },
  {
   "cell_type": "code",
   "execution_count": 16,
   "id": "47a9a5e5-262e-45fd-b0a1-d5d25d2ac0aa",
   "metadata": {},
   "outputs": [
    {
     "data": {
      "text/plain": [
       "array([0.        , 0.02040816, 0.04081633, 0.06122449, 0.08163265,\n",
       "       0.10204082, 0.12244898, 0.14285714, 0.16326531, 0.18367347,\n",
       "       0.20408163, 0.2244898 , 0.24489796, 0.26530612, 0.28571429,\n",
       "       0.30612245, 0.32653061, 0.34693878, 0.36734694, 0.3877551 ,\n",
       "       0.40816327, 0.42857143, 0.44897959, 0.46938776, 0.48979592,\n",
       "       0.51020408, 0.53061224, 0.55102041, 0.57142857, 0.59183673,\n",
       "       0.6122449 , 0.63265306, 0.65306122, 0.67346939, 0.69387755,\n",
       "       0.71428571, 0.73469388, 0.75510204, 0.7755102 , 0.79591837,\n",
       "       0.81632653, 0.83673469, 0.85714286, 0.87755102, 0.89795918,\n",
       "       0.91836735, 0.93877551, 0.95918367, 0.97959184, 1.        ])"
      ]
     },
     "execution_count": 16,
     "metadata": {},
     "output_type": "execute_result"
    }
   ],
   "source": [
    "np.linspace(0, 1)"
   ]
  },
  {
   "cell_type": "code",
   "execution_count": 17,
   "id": "b5bf5bba-02c0-4720-a578-e8304923b9cc",
   "metadata": {},
   "outputs": [
    {
     "data": {
      "text/plain": [
       "array([0. , 0.1, 0.2, 0.3, 0.4, 0.5, 0.6, 0.7, 0.8, 0.9, 1. ])"
      ]
     },
     "execution_count": 17,
     "metadata": {},
     "output_type": "execute_result"
    }
   ],
   "source": [
    "np.linspace(0, 1, 11)"
   ]
  },
  {
   "cell_type": "code",
   "execution_count": 18,
   "id": "338441d4-1028-401e-b3fb-c7128b054f44",
   "metadata": {},
   "outputs": [
    {
     "data": {
      "text/plain": [
       "array([0. , 0.1, 0.2, 0.3, 0.4, 0.5, 0.6, 0.7, 0.8, 0.9])"
      ]
     },
     "execution_count": 18,
     "metadata": {},
     "output_type": "execute_result"
    }
   ],
   "source": [
    "np.linspace(0, 1, 10, endpoint=False)"
   ]
  },
  {
   "cell_type": "markdown",
   "id": "5c5148b2-931f-462b-9f5e-cc4d6e41ed8e",
   "metadata": {},
   "source": [
    "### Indexing and slicing arrays\n",
    "Slicing provides a quick way of subsetting arrays."
   ]
  },
  {
   "cell_type": "code",
   "execution_count": 19,
   "id": "c169af77-c53b-4dce-b9a3-56cc680b4689",
   "metadata": {},
   "outputs": [
    {
     "name": "stdout",
     "output_type": "stream",
     "text": [
      "[ 5  6  7  8  9 10 11 12 13 14 15 16 17 18 19]\n",
      "6\n",
      "[ 6  7  8  9 10 11 12 13 14]\n",
      "[ 6  8 10 12 14]\n"
     ]
    }
   ],
   "source": [
    "x = np.arange(5, 20)\n",
    "print(x)\n",
    "print(x[1])\n",
    "print(x[1:10])\n",
    "print(x[1:10:2])"
   ]
  },
  {
   "cell_type": "markdown",
   "id": "03287f39-d5ff-401d-b4ed-959a360e8817",
   "metadata": {},
   "source": [
    "## 2D arrays\n",
    "* `np.reshape`\n",
    "* `np.zeros`\n",
    "* `np.ones`\n",
    "* `np.transpose`\n",
    "* `np.shape`"
   ]
  },
  {
   "cell_type": "code",
   "execution_count": 20,
   "id": "23893084-937b-4037-8286-f7936ffc30db",
   "metadata": {},
   "outputs": [
    {
     "data": {
      "text/plain": [
       "array([[1, 2, 3],\n",
       "       [4, 5, 6]])"
      ]
     },
     "execution_count": 20,
     "metadata": {},
     "output_type": "execute_result"
    }
   ],
   "source": [
    "M = np.array([[1, 2, 3], [4, 5, 6]])\n",
    "M"
   ]
  },
  {
   "cell_type": "markdown",
   "id": "20e167e5-3fee-4dfa-9e06-023345b874e9",
   "metadata": {},
   "source": [
    "Get the shape of the array using `array.shape`:"
   ]
  },
  {
   "cell_type": "code",
   "execution_count": 21,
   "id": "96fa4171-d071-4e85-aaca-b8c4677fa15e",
   "metadata": {},
   "outputs": [
    {
     "data": {
      "text/plain": [
       "(2, 3)"
      ]
     },
     "execution_count": 21,
     "metadata": {},
     "output_type": "execute_result"
    }
   ],
   "source": [
    "M.shape"
   ]
  },
  {
   "cell_type": "markdown",
   "id": "f08c63bd-f1dc-4d84-b7bd-e1ec6075fe92",
   "metadata": {},
   "source": [
    "Get the size using `array.size`:"
   ]
  },
  {
   "cell_type": "code",
   "execution_count": 22,
   "id": "429a1f79-2d93-4454-aef0-d35f58589d57",
   "metadata": {},
   "outputs": [
    {
     "data": {
      "text/plain": [
       "6"
      ]
     },
     "execution_count": 22,
     "metadata": {},
     "output_type": "execute_result"
    }
   ],
   "source": [
    "M.size"
   ]
  },
  {
   "cell_type": "markdown",
   "id": "e8c81be4-9256-49da-9d5f-7be270124319",
   "metadata": {},
   "source": [
    "Indexing: first dimension is the row index, second dimension is the column axis"
   ]
  },
  {
   "cell_type": "code",
   "execution_count": 23,
   "id": "b42e3fb6-a87a-44e1-87e7-a8025745d60f",
   "metadata": {},
   "outputs": [
    {
     "data": {
      "text/plain": [
       "3"
      ]
     },
     "execution_count": 23,
     "metadata": {},
     "output_type": "execute_result"
    }
   ],
   "source": [
    "M[0, 2]"
   ]
  },
  {
   "cell_type": "markdown",
   "id": "8bf48df0-96c5-4fd3-95ec-04b90d2de63b",
   "metadata": {},
   "source": [
    "Slicing is similar to the 1D case:"
   ]
  },
  {
   "cell_type": "code",
   "execution_count": 24,
   "id": "3bf74d47-b272-4675-b66c-8046569d5454",
   "metadata": {},
   "outputs": [
    {
     "name": "stdout",
     "output_type": "stream",
     "text": [
      "[1 2 3]\n",
      "[[1 2]\n",
      " [4 5]]\n"
     ]
    }
   ],
   "source": [
    "# Zeroth row\n",
    "print(M[0,:])\n",
    "\n",
    "# Zeroth and first columns\n",
    "print(M[:, 0:2])"
   ]
  },
  {
   "cell_type": "markdown",
   "id": "c762c98f-748d-41a9-9f6f-018fb3f836cf",
   "metadata": {},
   "source": [
    "You can reshape arrays using array.reshape:"
   ]
  },
  {
   "cell_type": "code",
   "execution_count": 25,
   "id": "c18c12bb-2afc-44c2-85a6-627d15a23a77",
   "metadata": {},
   "outputs": [
    {
     "data": {
      "text/plain": [
       "array([[1, 2, 3],\n",
       "       [4, 5, 6],\n",
       "       [7, 8, 9]])"
      ]
     },
     "execution_count": 25,
     "metadata": {},
     "output_type": "execute_result"
    }
   ],
   "source": [
    "x = np.arange(1, 10)\n",
    "A = x.reshape(3, 3)\n",
    "A"
   ]
  },
  {
   "cell_type": "markdown",
   "id": "4dc7f23d-4d84-4fde-8e6e-b2eefc4ca26b",
   "metadata": {},
   "source": [
    "Create a matrix or vector of ones using `np.ones` (similar function `np.zeros`)"
   ]
  },
  {
   "cell_type": "code",
   "execution_count": 26,
   "id": "a6c6d937-d549-4337-9c6e-c78855a74ceb",
   "metadata": {},
   "outputs": [
    {
     "data": {
      "text/plain": [
       "array([[1., 1., 1.],\n",
       "       [1., 1., 1.],\n",
       "       [1., 1., 1.]])"
      ]
     },
     "execution_count": 26,
     "metadata": {},
     "output_type": "execute_result"
    }
   ],
   "source": [
    "B = np.ones((3,3))\n",
    "B"
   ]
  },
  {
   "cell_type": "markdown",
   "id": "61aa1dc4-36f7-47c0-af8e-509f38a3a613",
   "metadata": {},
   "source": [
    "Using \"+\", \"-\", \"*\", \"/\" or \"**\" operators results in elementwise operations."
   ]
  },
  {
   "cell_type": "code",
   "execution_count": 27,
   "id": "583fe6b9-8b09-4ae3-bf55-60eed3d5c15b",
   "metadata": {},
   "outputs": [
    {
     "data": {
      "text/plain": [
       "array([[1., 2., 3.],\n",
       "       [4., 5., 6.],\n",
       "       [7., 8., 9.]])"
      ]
     },
     "execution_count": 27,
     "metadata": {},
     "output_type": "execute_result"
    }
   ],
   "source": [
    "# Not real matrix multiplication\n",
    "A * B"
   ]
  },
  {
   "cell_type": "markdown",
   "id": "aa5fd4d5-300b-4535-acf9-81e6c6f9f4a0",
   "metadata": {},
   "source": [
    "Use '@' operator for matrix multiplication:"
   ]
  },
  {
   "cell_type": "code",
   "execution_count": 28,
   "id": "957ae30d-b77f-4f8b-ba05-1da3d48c1021",
   "metadata": {},
   "outputs": [
    {
     "data": {
      "text/plain": [
       "array([[ 6.,  6.,  6.],\n",
       "       [15., 15., 15.],\n",
       "       [24., 24., 24.]])"
      ]
     },
     "execution_count": 28,
     "metadata": {},
     "output_type": "execute_result"
    }
   ],
   "source": [
    "A @ B"
   ]
  }
 ],
 "metadata": {
  "kernelspec": {
   "display_name": "pangeo",
   "language": "python",
   "name": "pangeo"
  },
  "language_info": {
   "codemirror_mode": {
    "name": "ipython",
    "version": 3
   },
   "file_extension": ".py",
   "mimetype": "text/x-python",
   "name": "python",
   "nbconvert_exporter": "python",
   "pygments_lexer": "ipython3",
   "version": "3.8.5"
  }
 },
 "nbformat": 4,
 "nbformat_minor": 5
}
