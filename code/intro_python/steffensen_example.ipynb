{
 "cells": [
  {
   "cell_type": "code",
   "execution_count": null,
   "id": "522e65b5-43f9-411e-905c-10dd323802c1",
   "metadata": {},
   "outputs": [],
   "source": [
    "import numpy as np\n",
    "import matplotlib.pyplot as plt\n",
    "\n",
    "import steffensen"
   ]
  },
  {
   "cell_type": "code",
   "execution_count": null,
   "id": "d09ad4c1-e2d6-452c-ae12-736dd751677e",
   "metadata": {},
   "outputs": [],
   "source": [
    "f = lambda x : x**2 - 5\n",
    "x_0 = 1.0\n",
    "x_list = steffensen.find_root(f, x_0)\n",
    "x_list"
   ]
  },
  {
   "cell_type": "markdown",
   "id": "19b63a95-e7cc-4e29-b2a5-9a26ee1114d6",
   "metadata": {},
   "source": [
    "Converges to the root at $x=-\\sqrt{5}$"
   ]
  },
  {
   "cell_type": "code",
   "execution_count": null,
   "id": "dd2e685f-5e49-4985-920b-dcf1df0a18c0",
   "metadata": {},
   "outputs": [],
   "source": [
    "errors = np.abs(x_list + np.sqrt(5))"
   ]
  },
  {
   "cell_type": "code",
   "execution_count": null,
   "id": "a084e670-c614-4709-9c60-bf95084468c9",
   "metadata": {},
   "outputs": [],
   "source": [
    "fig, ax = plt.subplots()\n",
    "\n",
    "ax.semilogy(errors, marker='o')\n",
    "ax.set(xlabel='iteration', ylabel='Error', title=\"Convergence of Steffensen's method\");\n",
    "ax.grid()"
   ]
  },
  {
   "cell_type": "code",
   "execution_count": null,
   "id": "fd263c28-4f1d-41b0-8790-5d0d7157a8fd",
   "metadata": {},
   "outputs": [],
   "source": []
  }
 ],
 "metadata": {
  "kernelspec": {
   "display_name": "pangeo",
   "language": "python",
   "name": "pangeo"
  },
  "language_info": {
   "codemirror_mode": {
    "name": "ipython",
    "version": 3
   },
   "file_extension": ".py",
   "mimetype": "text/x-python",
   "name": "python",
   "nbconvert_exporter": "python",
   "pygments_lexer": "ipython3",
   "version": "3.8.5"
  }
 },
 "nbformat": 4,
 "nbformat_minor": 5
}
