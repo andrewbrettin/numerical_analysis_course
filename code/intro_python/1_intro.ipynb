{
 "cells": [
  {
   "cell_type": "markdown",
   "metadata": {
    "tags": []
   },
   "source": [
    "# Introduction to Python\n",
    "## Getting started\n",
    "**Installing Python** Using miniconda or miniforge is recommended.\n",
    "  - miniconda https://docs.conda.io/en/latest/miniconda.html\n",
    "  - miniforge: https://github.com/conda-forge/miniforge. If you have an M1 mac then this is probably what you will need.\n",
    "  - anaconda: https://docs.anaconda.com/anaconda/install/ This will install ~1000 packages at once as well as some applications (which will take up about 3GB of space).\n",
    "\n",
    "Installing anaconda, miniconda or miniforge will install Python and Conda. Conda serves two main purposes: 1) it's a package manager, allowing you to install other code, and 2) it's an environment manager, to ensure that you have a self-consistent set of codes that can be used together without errors.\n",
    "\n",
    "**Managing environments using conda**\n",
    "* Create a conda environment named \"numerics\": `conda create -n numerics`\n",
    "* List conda environments: `conda env list`\n",
    "* Activate your conda environment: `conda activate numerics`  \n",
    "  - You should normally activate your environment before installing packages. Otherwise, it will install to the base environment. We want to minimize the number of packages we add to base in order to \n",
    "* Install packages: `conda install -c conda-forge numpy scipy matplotlib` will install the packages numpy, scipy, and matplotlib using the channel conda-forge.\n",
    "\n",
    "Conda cheat sheet: https://docs.conda.io/projects/conda/en/latest/user-guide/cheatsheet.html\n",
    "\n",
    "**Installing jupyter (optional)**\n",
    "Jupyter is software that allows you to make interactive code notebooks like this one.\n",
    "\n",
    "1. On the base environment, install jupyterlab\n",
    "```bash\n",
    "(base)$ conda install -c conda-forge jupyterlab nb_conda_kernels \n",
    "```\n",
    "2. Activate your environment:\n",
    "```bash\n",
    "(base)$ conda activate numerics\n",
    "(numerics)$ \n",
    "```\n",
    "3. Install ipykernel:\n",
    "```bash\n",
    "(numerics)$ conda install -c conda-forge ipykernel\n",
    "```"
   ]
  },
  {
   "cell_type": "markdown",
   "metadata": {},
   "source": [
    "## Jupyter code blocks\n",
    "Click shift + enter to execute a block of code."
   ]
  },
  {
   "cell_type": "code",
   "execution_count": null,
   "metadata": {},
   "outputs": [],
   "source": [
    "print(\"Hello world!\")"
   ]
  },
  {
   "cell_type": "code",
   "execution_count": null,
   "metadata": {},
   "outputs": [],
   "source": [
    "# This is a comment (line not executed by code)\n",
    "2 + 3"
   ]
  },
  {
   "cell_type": "markdown",
   "metadata": {},
   "source": [
    "## Primitive data types"
   ]
  },
  {
   "cell_type": "markdown",
   "metadata": {},
   "source": [
    "Primitive data types:\n",
    "* `str`: strings (sequences of characters)\n",
    "* `int`: integers\n",
    "* `float`: floating point numbers (decimal representation of real numbers)\n",
    "* `bool`: Booleans: either True or False"
   ]
  },
  {
   "cell_type": "markdown",
   "metadata": {},
   "source": [
    "**Integers**"
   ]
  },
  {
   "cell_type": "code",
   "execution_count": null,
   "metadata": {},
   "outputs": [],
   "source": [
    "(3 * -2) + 2"
   ]
  },
  {
   "cell_type": "code",
   "execution_count": null,
   "metadata": {},
   "outputs": [],
   "source": [
    "# Use ** operator for exponentiation\n",
    "6**2"
   ]
  },
  {
   "cell_type": "code",
   "execution_count": null,
   "metadata": {},
   "outputs": [],
   "source": [
    "type(100)"
   ]
  },
  {
   "cell_type": "markdown",
   "metadata": {},
   "source": [
    "**Floats**\n",
    "Floats (short for floating point number) are decimal representations of real numbers."
   ]
  },
  {
   "cell_type": "code",
   "execution_count": null,
   "metadata": {},
   "outputs": [],
   "source": [
    "type(3.14159)"
   ]
  },
  {
   "cell_type": "code",
   "execution_count": null,
   "metadata": {},
   "outputs": [],
   "source": [
    "# Add decimals to end to make a float\n",
    "print(3.)"
   ]
  },
  {
   "cell_type": "code",
   "execution_count": null,
   "metadata": {},
   "outputs": [],
   "source": [
    "# You can change the type of integers to floats by calling the float() function.\n",
    "# This is called type casting.\n",
    "float(24)"
   ]
  },
  {
   "cell_type": "code",
   "execution_count": null,
   "metadata": {},
   "outputs": [],
   "source": [
    "# Operations between integers and floats get casted automatically to floats\n",
    "3.0 + 2"
   ]
  },
  {
   "cell_type": "code",
   "execution_count": null,
   "metadata": {},
   "outputs": [],
   "source": [
    "# Scientific notation\n",
    "print(1e6)"
   ]
  },
  {
   "cell_type": "markdown",
   "metadata": {},
   "source": [
    "**Strings**  \n",
    "Strings are collections of characters, like words or."
   ]
  },
  {
   "cell_type": "code",
   "execution_count": null,
   "metadata": {},
   "outputs": [],
   "source": [
    "# Strings are wrapped in double quotation marks or single quotation marks\n",
    "print(\"Hello world\")\n",
    "print('Also hello world')"
   ]
  },
  {
   "cell_type": "code",
   "execution_count": null,
   "metadata": {},
   "outputs": [],
   "source": [
    "# Use + to concatenate strings\n",
    "\"Tik\" + \"Tok\""
   ]
  },
  {
   "cell_type": "markdown",
   "metadata": {},
   "source": [
    "Escape characters: '\\t' is a tab, '\\n' is a new line"
   ]
  },
  {
   "cell_type": "code",
   "execution_count": null,
   "metadata": {},
   "outputs": [],
   "source": [
    "print(\"This is my haiku \\n I am no good at haikus \\n Pineapple pizza\")"
   ]
  },
  {
   "cell_type": "markdown",
   "metadata": {},
   "source": [
    "We can also do unicode characters:"
   ]
  },
  {
   "cell_type": "code",
   "execution_count": null,
   "metadata": {},
   "outputs": [],
   "source": [
    "print(\"\\u263A\")"
   ]
  },
  {
   "cell_type": "markdown",
   "metadata": {},
   "source": [
    "**Booleans**\n",
    "Booleans are either True or False."
   ]
  },
  {
   "cell_type": "code",
   "execution_count": null,
   "metadata": {},
   "outputs": [],
   "source": [
    "type(True)"
   ]
  },
  {
   "cell_type": "code",
   "execution_count": null,
   "metadata": {},
   "outputs": [],
   "source": [
    "2 < 3"
   ]
  },
  {
   "cell_type": "markdown",
   "metadata": {},
   "source": [
    "Use `<=` and `>=` for ≤ and ≥, respectively."
   ]
  },
  {
   "cell_type": "code",
   "execution_count": null,
   "metadata": {},
   "outputs": [],
   "source": [
    "2 <= -3"
   ]
  },
  {
   "cell_type": "markdown",
   "metadata": {},
   "source": [
    "Check for equality with \"==\":"
   ]
  },
  {
   "cell_type": "code",
   "execution_count": null,
   "metadata": {
    "tags": []
   },
   "outputs": [],
   "source": [
    "2 * 5 == 10"
   ]
  },
  {
   "cell_type": "markdown",
   "metadata": {},
   "source": [
    "Check for inequality with \"!=\":"
   ]
  },
  {
   "cell_type": "code",
   "execution_count": null,
   "metadata": {},
   "outputs": [],
   "source": [
    "\"Andrew Brettin\" != \"Mr. Bean\""
   ]
  },
  {
   "cell_type": "markdown",
   "metadata": {},
   "source": [
    "We also have the relational operators \"not\", \"and\", and \"or\". These can be used to create compound boolean statements."
   ]
  },
  {
   "cell_type": "code",
   "execution_count": null,
   "metadata": {},
   "outputs": [],
   "source": [
    "print(not True)"
   ]
  },
  {
   "cell_type": "code",
   "execution_count": null,
   "metadata": {},
   "outputs": [],
   "source": [
    "# True and True is True\n",
    "print(1 < 2 and 2 < 3)"
   ]
  },
  {
   "cell_type": "code",
   "execution_count": null,
   "metadata": {},
   "outputs": [],
   "source": [
    "# True and False is False\n",
    "print(1 < 2 and 10000 == -1000)"
   ]
  },
  {
   "cell_type": "code",
   "execution_count": null,
   "metadata": {},
   "outputs": [],
   "source": [
    "# True or False is True\n",
    "print(1 < 2 or 10000 < -1000)"
   ]
  },
  {
   "cell_type": "markdown",
   "metadata": {},
   "source": [
    "Integers can be casted to booleans:"
   ]
  },
  {
   "cell_type": "code",
   "execution_count": null,
   "metadata": {},
   "outputs": [],
   "source": [
    "# Zeroes are False\n",
    "print(\"0 is\", bool(0))\n",
    "\n",
    "# Any other number is True\n",
    "print(\"34 is\", bool(34))"
   ]
  },
  {
   "cell_type": "markdown",
   "metadata": {},
   "source": [
    "## Variables\n",
    "\n",
    "Variables allow us to store data.\n",
    "\n",
    "Assign values to a variable by using the equals sign:"
   ]
  },
  {
   "cell_type": "code",
   "execution_count": null,
   "metadata": {},
   "outputs": [],
   "source": [
    "num = 3"
   ]
  },
  {
   "cell_type": "code",
   "execution_count": null,
   "metadata": {},
   "outputs": [],
   "source": [
    "num**2"
   ]
  },
  {
   "cell_type": "markdown",
   "metadata": {},
   "source": [
    "Variable names can contain uppercase or lowercase letters, underscores, and numbers (but can't begin with numbers)."
   ]
  },
  {
   "cell_type": "code",
   "execution_count": null,
   "metadata": {},
   "outputs": [],
   "source": [
    "print(\"number is\", num)\n",
    "\n",
    "# Update value\n",
    "num = num + 1\n",
    "print(\"number is now\", num) "
   ]
  },
  {
   "cell_type": "markdown",
   "metadata": {},
   "source": [
    "## Lists"
   ]
  },
  {
   "cell_type": "markdown",
   "metadata": {},
   "source": [
    "Lists are collections of objects, identified using square brackets:"
   ]
  },
  {
   "cell_type": "code",
   "execution_count": null,
   "metadata": {},
   "outputs": [],
   "source": [
    "favorite_things = ['raindrops', 'roses', 'whiskers', 'kittens', 3.14]"
   ]
  },
  {
   "cell_type": "markdown",
   "metadata": {},
   "source": [
    "Access elements of a list using square brackets. The first element is indexed by [0], the next element by [1], and so on."
   ]
  },
  {
   "cell_type": "code",
   "execution_count": null,
   "metadata": {},
   "outputs": [],
   "source": [
    "# Access elements of a list\n",
    "print(favorite_things[0])\n",
    "print(favorite_things[1])"
   ]
  },
  {
   "cell_type": "markdown",
   "metadata": {},
   "source": [
    "Get the number of elements in a list using `len()`:"
   ]
  },
  {
   "cell_type": "code",
   "execution_count": null,
   "metadata": {},
   "outputs": [],
   "source": [
    "len(favorite_things)"
   ]
  },
  {
   "cell_type": "markdown",
   "metadata": {},
   "source": [
    "Python also allows for reverse indexing using negative numbers: -1 is the index of the last element, -2 is the index of the second-to-last element, and so on."
   ]
  },
  {
   "cell_type": "code",
   "execution_count": null,
   "metadata": {},
   "outputs": [],
   "source": [
    "# Access last element of a list\n",
    "print(favorite_things[-1])"
   ]
  },
  {
   "cell_type": "markdown",
   "metadata": {},
   "source": [
    "Check whether an element is in the list using 'in'"
   ]
  },
  {
   "cell_type": "code",
   "execution_count": null,
   "metadata": {},
   "outputs": [],
   "source": [
    "'poop' in favorite_things"
   ]
  },
  {
   "cell_type": "markdown",
   "metadata": {},
   "source": [
    "You can use the `list.append()` and `list.remove()` functions to change the elements in a list."
   ]
  },
  {
   "cell_type": "code",
   "execution_count": null,
   "metadata": {},
   "outputs": [],
   "source": [
    "a = []   # Empty list\n",
    "a.append('apple')\n",
    "a.append('banana')\n",
    "a.append('numerical analysis')\n",
    "a"
   ]
  },
  {
   "cell_type": "markdown",
   "metadata": {},
   "source": [
    "## Tuples and dicts\n",
    "We won't go into too much detail here, but tuples are list-like objects that can't be changed once you create them. They are created using parentheses."
   ]
  },
  {
   "cell_type": "code",
   "execution_count": null,
   "metadata": {},
   "outputs": [],
   "source": [
    "weekdays = ('Monday', 'Tuesday', 'Wednesday', 'Thursday', 'Friday')"
   ]
  },
  {
   "cell_type": "code",
   "execution_count": null,
   "metadata": {},
   "outputs": [],
   "source": [
    "# This will result in an error\n",
    "weekdays.append('Halloween')"
   ]
  },
  {
   "cell_type": "markdown",
   "metadata": {},
   "source": [
    "Dictionaries are discrete functions: Each key defined in a dictionary is assigned a value."
   ]
  },
  {
   "cell_type": "code",
   "execution_count": null,
   "metadata": {},
   "outputs": [],
   "source": [
    "movie_directors = {\n",
    "    'Jurassic Park': 'Spielberg',\n",
    "    'The Godfather': 'Coppolla',\n",
    "    'Jaws': 'Spielberg',\n",
    "}"
   ]
  },
  {
   "cell_type": "code",
   "execution_count": null,
   "metadata": {},
   "outputs": [],
   "source": [
    "movie_directors['Jaws']"
   ]
  },
  {
   "cell_type": "markdown",
   "metadata": {},
   "source": [
    "## Control flow"
   ]
  },
  {
   "cell_type": "markdown",
   "metadata": {},
   "source": [
    "### If / else statements\n",
    "\n",
    "if statements are only executed if a condition is true."
   ]
  },
  {
   "cell_type": "code",
   "execution_count": null,
   "metadata": {},
   "outputs": [],
   "source": [
    "num = -30\n",
    "\n",
    "if num < 0:\n",
    "    print(\"number is negative\")"
   ]
  },
  {
   "cell_type": "code",
   "execution_count": null,
   "metadata": {},
   "outputs": [],
   "source": [
    "if num < 0:\n",
    "    print(\"number is negative\")\n",
    "elif num > 0:\n",
    "    print(\"number is positive\")\n",
    "else:\n",
    "    print(\"number is 0\")"
   ]
  },
  {
   "cell_type": "markdown",
   "metadata": {},
   "source": [
    "### While loops:\n",
    "While loops are repeated if-statements. While loops are executed until the condition is not met."
   ]
  },
  {
   "cell_type": "code",
   "execution_count": null,
   "metadata": {},
   "outputs": [],
   "source": [
    "num = 1\n",
    "while num < 100:\n",
    "    num = 2 * num\n",
    "    print(num)"
   ]
  },
  {
   "cell_type": "markdown",
   "metadata": {},
   "source": [
    "### For loops\n",
    "For loops are executed for each element in an \"iterable\" (a list or a list-like object)."
   ]
  },
  {
   "cell_type": "code",
   "execution_count": null,
   "metadata": {},
   "outputs": [],
   "source": [
    "# For loops\n",
    "letters = ['A', 'B', 'C', 'D', 'E']\n",
    "\n",
    "for letter in letters:\n",
    "    print(letter)"
   ]
  },
  {
   "cell_type": "code",
   "execution_count": null,
   "metadata": {},
   "outputs": [],
   "source": [
    "# The range function\n",
    "for i in range(5):\n",
    "    print(i)"
   ]
  },
  {
   "cell_type": "markdown",
   "metadata": {},
   "source": [
    "Use `enumerate` if you want to access the index of the list while iterating.\n",
    "\n",
    "Use \"f-strings\" to substitue variables into strings:"
   ]
  },
  {
   "cell_type": "code",
   "execution_count": null,
   "metadata": {},
   "outputs": [],
   "source": [
    "for i, letter in enumerate(letters):\n",
    "    print(f\"The {i}th letter is {letter}\")"
   ]
  },
  {
   "cell_type": "markdown",
   "metadata": {},
   "source": [
    "## Defining functions\n",
    "\n",
    "Functions take in a bunch of arguments and apply some procedure based on those arguments. \n",
    "Functions may return a value, or just perform some type of instruction"
   ]
  },
  {
   "cell_type": "code",
   "execution_count": null,
   "metadata": {},
   "outputs": [],
   "source": [
    "def triple(x):\n",
    "    return 3 * x"
   ]
  },
  {
   "cell_type": "code",
   "execution_count": null,
   "metadata": {},
   "outputs": [],
   "source": [
    "triple(2)"
   ]
  },
  {
   "cell_type": "code",
   "execution_count": null,
   "metadata": {},
   "outputs": [],
   "source": [
    "triple(100)"
   ]
  },
  {
   "cell_type": "code",
   "execution_count": null,
   "metadata": {},
   "outputs": [],
   "source": [
    "triple('Boom ')"
   ]
  },
  {
   "cell_type": "markdown",
   "metadata": {},
   "source": [
    "In Python, functions end once a return statement is reached, or wherever the indentation stops.\n",
    "\n",
    "Functions don't have to have any arguments:"
   ]
  },
  {
   "cell_type": "code",
   "execution_count": null,
   "metadata": {},
   "outputs": [],
   "source": [
    "def print_compliments():\n",
    "    print(\"Your clothes look sharp!\")\n",
    "    print(\"You have very good manners. My parents would be impressed.\")\n",
    "    print(\"You are very skilled at managing a well-balanced stock portfolio.\")\n",
    "    print(\"I love you.\")\n",
    "\n",
    "print_compliments()"
   ]
  },
  {
   "cell_type": "markdown",
   "metadata": {},
   "source": [
    "Another example, using a for loop:"
   ]
  },
  {
   "cell_type": "code",
   "execution_count": null,
   "metadata": {},
   "outputs": [],
   "source": [
    "def mean(x):\n",
    "    s = 0\n",
    "    for i in x:\n",
    "        s = s + i\n",
    "    avg = s / len(x)\n",
    "    return avg"
   ]
  },
  {
   "cell_type": "code",
   "execution_count": null,
   "metadata": {},
   "outputs": [],
   "source": [
    "mean([0, 1, 2, 3, 4, 5])"
   ]
  },
  {
   "cell_type": "markdown",
   "metadata": {},
   "source": [
    "Smaller functions can be defined using the lambda keyword:"
   ]
  },
  {
   "cell_type": "code",
   "execution_count": null,
   "metadata": {},
   "outputs": [],
   "source": [
    "f = lambda x : x**2 - 1"
   ]
  },
  {
   "cell_type": "code",
   "execution_count": null,
   "metadata": {},
   "outputs": [],
   "source": [
    "f(10)"
   ]
  },
  {
   "cell_type": "markdown",
   "metadata": {},
   "source": [
    "Functions can even be passed as arguments to other functions!"
   ]
  },
  {
   "cell_type": "code",
   "execution_count": null,
   "metadata": {},
   "outputs": [],
   "source": [
    "def sign(f, x):\n",
    "    # Returns the sign of the function f evaluated at x.\n",
    "    if f(x) > 0:\n",
    "        return '+'\n",
    "    elif f(x) < 0:\n",
    "        return '-'\n",
    "    else:\n",
    "        return '0'\n",
    "    \n",
    "sign(f, 10)"
   ]
  },
  {
   "cell_type": "markdown",
   "metadata": {
    "tags": []
   },
   "source": [
    "## Classes and object-oriented programming\n",
    "\n",
    "This is a little bit more advanced. You will likely not have to create classes in this course, but you will need to deal with python classes such as numpy arrays, matplotlib figures, etc.\n",
    "\n",
    "Often, simple data types like floats and and strings and lists are not complete enough to describe more complex abstractions. The idea behind object-oriented programming is to allow for defining \"objects\", which have their own variables and functions associated with them.\n",
    "\n",
    "You probably won't have to make your own classes, but the block below shows how to define an example ComplexNumber class. More important is understanding how to create objects from a class, access their attributes and call their functions."
   ]
  },
  {
   "cell_type": "code",
   "execution_count": null,
   "metadata": {},
   "outputs": [],
   "source": [
    "class ComplexNumber():\n",
    "    def __init__(self, a, b):\n",
    "        self.real = a\n",
    "        self.imag = b\n",
    "    \n",
    "    def __repr__(self):\n",
    "        return f\"ComplexNumber({self.real}, {self.imag})\"\n",
    "    \n",
    "    def norm_squared(self):\n",
    "        return self.real**2 + self.imag**2\n",
    "    \n",
    "    def conjugate(self):\n",
    "        return ComplexNumber(self.real, -self.imag)"
   ]
  },
  {
   "cell_type": "markdown",
   "metadata": {},
   "source": [
    "Create a ComplexNumber object:"
   ]
  },
  {
   "cell_type": "code",
   "execution_count": null,
   "metadata": {},
   "outputs": [],
   "source": [
    "z = ComplexNumber(3, 2)\n",
    "w = ComplexNumber(0, 1)\n",
    "z"
   ]
  },
  {
   "cell_type": "markdown",
   "metadata": {},
   "source": [
    "Object variables are called \"attributes\" and are accessed using the \".\" operator. For instance, let's get the attributes \"real\" and \"imag\" of the ComplexNumber \"z\":"
   ]
  },
  {
   "cell_type": "code",
   "execution_count": null,
   "metadata": {},
   "outputs": [],
   "source": [
    "print(z.real)\n",
    "print(z.imag)"
   ]
  },
  {
   "cell_type": "markdown",
   "metadata": {},
   "source": [
    "Object functions are called \"methods\" and are accessed using the \".\" operator as well. For instance, let's get the complex conjugate of z:"
   ]
  },
  {
   "cell_type": "code",
   "execution_count": null,
   "metadata": {},
   "outputs": [],
   "source": [
    "z_bar = z.conjugate()\n",
    "z_bar"
   ]
  },
  {
   "cell_type": "markdown",
   "metadata": {},
   "source": [
    "## Other resources:\n",
    "* [Google's python course](https://developers.google.com/edu/python/introduction)\n",
    "* [JupyterLab getting started](https://jupyterlab.readthedocs.io/en/stable/getting_started/overview.html)\n",
    "* [Classes and object-oriented programming](https://realpython.com/python3-object-oriented-programming/)\n",
    "* [PEP8 style guide for clean code conventions](https://peps.python.org/pep-0008/)"
   ]
  },
  {
   "cell_type": "code",
   "execution_count": null,
   "metadata": {},
   "outputs": [],
   "source": []
  }
 ],
 "metadata": {
  "kernelspec": {
   "display_name": "pangeo",
   "language": "python",
   "name": "pangeo"
  },
  "language_info": {
   "codemirror_mode": {
    "name": "ipython",
    "version": 3
   },
   "file_extension": ".py",
   "mimetype": "text/x-python",
   "name": "python",
   "nbconvert_exporter": "python",
   "pygments_lexer": "ipython3",
   "version": "3.8.5"
  }
 },
 "nbformat": 4,
 "nbformat_minor": 4
}
