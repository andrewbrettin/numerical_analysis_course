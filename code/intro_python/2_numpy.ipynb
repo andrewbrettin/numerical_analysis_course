{
 "cells": [
  {
   "cell_type": "markdown",
   "id": "45d1e70e-4793-45b7-a6e4-9858151dff77",
   "metadata": {},
   "source": [
    "# Introduction to numpy\n",
    "\n",
    "Numpy is a package which has mathematical functions and data structures for dealing with vectors."
   ]
  },
  {
   "cell_type": "code",
   "execution_count": null,
   "id": "1b896693-5947-43f5-9c74-391dfa24fd8b",
   "metadata": {},
   "outputs": [],
   "source": [
    "import numpy as np"
   ]
  },
  {
   "cell_type": "markdown",
   "id": "7884d608-819a-411a-b6c8-a1a3b6f7b089",
   "metadata": {},
   "source": [
    "## Example constants and functions in numpy:"
   ]
  },
  {
   "cell_type": "code",
   "execution_count": null,
   "id": "b4180c3b-d712-473e-8f43-db017ceaf146",
   "metadata": {},
   "outputs": [],
   "source": [
    "# Example constants\n",
    "print(np.pi)\n",
    "print(np.e)"
   ]
  },
  {
   "cell_type": "code",
   "execution_count": null,
   "id": "c1ecbdde-3f8e-4a23-91a5-143a6b50d46a",
   "metadata": {},
   "outputs": [],
   "source": [
    "# Example functions\n",
    "print(np.sqrt(2))"
   ]
  },
  {
   "cell_type": "code",
   "execution_count": null,
   "id": "a4f66da1-585a-44f2-8cc6-004f0c59bbde",
   "metadata": {},
   "outputs": [],
   "source": [
    "print(np.sin(np.pi / 2))\n",
    "print(np.exp(2))\n",
    "print(np.log10(1000))"
   ]
  },
  {
   "cell_type": "markdown",
   "id": "7fc15275-6e48-4dae-9ab7-af789c25ad5c",
   "metadata": {},
   "source": [
    "## 1D Arrays\n",
    "* `np.array`\n",
    "* `np.arange`\n",
    "* `np.linspace`\n",
    "* Slicing and indexing arrays"
   ]
  },
  {
   "cell_type": "markdown",
   "id": "62fe2194-594f-4278-8c0f-8c53d7b2af2e",
   "metadata": {},
   "source": [
    "### Why numpy arrays?\n",
    "We need numpy to deal with arrays of numbers in a mathematical way."
   ]
  },
  {
   "cell_type": "code",
   "execution_count": null,
   "id": "e05f5fed-78a1-4736-853a-ba59b0f017f8",
   "metadata": {},
   "outputs": [],
   "source": [
    "# Using python lists results in bad math:\n",
    "[1, 2, 3] + [1, 2, 3]"
   ]
  },
  {
   "cell_type": "code",
   "execution_count": null,
   "id": "e49a4916-841f-4d67-9f9a-9d9b9ef6ba66",
   "metadata": {},
   "outputs": [],
   "source": [
    "# Math works the way you would expect with numpy arrays:\n",
    "np.array([1, 2, 3]) + np.array([1, 2, 3])"
   ]
  },
  {
   "cell_type": "markdown",
   "id": "ce690445-5eae-408d-8cc5-a30e13033615",
   "metadata": {},
   "source": [
    "Numpy functions work elementwise on arrays:"
   ]
  },
  {
   "cell_type": "code",
   "execution_count": null,
   "id": "9003997e-2e24-4101-b47d-d152ff26b9d4",
   "metadata": {},
   "outputs": [],
   "source": [
    "arr = np.array([1, 2, 3, 4, 5])\n",
    "np.exp(arr)"
   ]
  },
  {
   "cell_type": "markdown",
   "id": "f5e9ecc7-0490-4710-86ef-f92ada74f894",
   "metadata": {},
   "source": [
    "### np.arange\n",
    "Use np.arange for ranges of numbers:"
   ]
  },
  {
   "cell_type": "code",
   "execution_count": null,
   "id": "43b3a12f-be3e-4c93-b501-bcf963ca09a1",
   "metadata": {},
   "outputs": [],
   "source": [
    "np.arange(5)"
   ]
  },
  {
   "cell_type": "code",
   "execution_count": null,
   "id": "1a4faa7f-8c03-4922-8ce9-34eb96fff12c",
   "metadata": {},
   "outputs": [],
   "source": [
    "np.arange(5, 10)"
   ]
  },
  {
   "cell_type": "code",
   "execution_count": null,
   "id": "a36d70f9-bb11-408b-9d84-605e30299a46",
   "metadata": {},
   "outputs": [],
   "source": [
    "np.arange(0, 10, 1.3)"
   ]
  },
  {
   "cell_type": "code",
   "execution_count": null,
   "id": "37f7324e-bcce-4ed8-a469-092cd41bd42e",
   "metadata": {},
   "outputs": [],
   "source": [
    "np.arange(100, 90, -1)"
   ]
  },
  {
   "cell_type": "markdown",
   "id": "994d7286-f297-4f89-a13e-8ab3aef27f63",
   "metadata": {},
   "source": [
    "Note: you can get information about a class or function by calling help() on it:"
   ]
  },
  {
   "cell_type": "code",
   "execution_count": null,
   "id": "b02aaad8-a4bc-4c5f-84dc-fde8607950c8",
   "metadata": {
    "tags": []
   },
   "outputs": [],
   "source": [
    "help(np.arange)"
   ]
  },
  {
   "cell_type": "markdown",
   "id": "adbee91a-7148-456d-850a-5e52d0a41c8f",
   "metadata": {},
   "source": [
    "In jupyterlab, you can also use the question mark operator:"
   ]
  },
  {
   "cell_type": "code",
   "execution_count": null,
   "id": "f7d7af27-c64d-4f53-bfc2-b818880129c4",
   "metadata": {
    "tags": []
   },
   "outputs": [],
   "source": [
    "np.arange?"
   ]
  },
  {
   "cell_type": "markdown",
   "id": "68c86df0-3ad6-4709-8226-b8a1ef83f5df",
   "metadata": {},
   "source": [
    "### np.linspace\n",
    "Use np.linspace to linearly interpolate between two numbers"
   ]
  },
  {
   "cell_type": "code",
   "execution_count": null,
   "id": "47a9a5e5-262e-45fd-b0a1-d5d25d2ac0aa",
   "metadata": {},
   "outputs": [],
   "source": [
    "np.linspace(0, 1)"
   ]
  },
  {
   "cell_type": "code",
   "execution_count": null,
   "id": "b5bf5bba-02c0-4720-a578-e8304923b9cc",
   "metadata": {},
   "outputs": [],
   "source": [
    "np.linspace(0, 1, 11)"
   ]
  },
  {
   "cell_type": "code",
   "execution_count": null,
   "id": "338441d4-1028-401e-b3fb-c7128b054f44",
   "metadata": {},
   "outputs": [],
   "source": [
    "np.linspace(0, 1, 10, endpoint=False)"
   ]
  },
  {
   "cell_type": "markdown",
   "id": "5c5148b2-931f-462b-9f5e-cc4d6e41ed8e",
   "metadata": {},
   "source": [
    "### Indexing and slicing arrays\n",
    "Slicing provides a quick way of subsetting arrays."
   ]
  },
  {
   "cell_type": "code",
   "execution_count": null,
   "id": "c169af77-c53b-4dce-b9a3-56cc680b4689",
   "metadata": {},
   "outputs": [],
   "source": [
    "x = np.arange(5, 20)\n",
    "print(x)\n",
    "print(x[1])\n",
    "print(x[1:10])\n",
    "print(x[1:10:2])"
   ]
  },
  {
   "cell_type": "markdown",
   "id": "03287f39-d5ff-401d-b4ed-959a360e8817",
   "metadata": {},
   "source": [
    "## 2D arrays\n",
    "* `ndarray.shape`\n",
    "* `ndarray.size`\n",
    "* `np.reshape`\n",
    "* `np.zeros`\n",
    "* `np.ones`\n",
    "* `ndarray.transpose()`"
   ]
  },
  {
   "cell_type": "code",
   "execution_count": null,
   "id": "23893084-937b-4037-8286-f7936ffc30db",
   "metadata": {},
   "outputs": [],
   "source": [
    "M = np.array([[1, 2, 3], [4, 5, 6]])\n",
    "M"
   ]
  },
  {
   "cell_type": "code",
   "execution_count": null,
   "id": "6015537a-2b25-4d23-b577-bf3d185b5490",
   "metadata": {},
   "outputs": [],
   "source": [
    "type(M)"
   ]
  },
  {
   "cell_type": "markdown",
   "id": "20e167e5-3fee-4dfa-9e06-023345b874e9",
   "metadata": {},
   "source": [
    "Get the shape of the array using `array.shape`:"
   ]
  },
  {
   "cell_type": "code",
   "execution_count": null,
   "id": "96fa4171-d071-4e85-aaca-b8c4677fa15e",
   "metadata": {},
   "outputs": [],
   "source": [
    "M.shape"
   ]
  },
  {
   "cell_type": "markdown",
   "id": "f08c63bd-f1dc-4d84-b7bd-e1ec6075fe92",
   "metadata": {},
   "source": [
    "Get the size using `array.size`:"
   ]
  },
  {
   "cell_type": "code",
   "execution_count": null,
   "id": "429a1f79-2d93-4454-aef0-d35f58589d57",
   "metadata": {},
   "outputs": [],
   "source": [
    "M.size"
   ]
  },
  {
   "cell_type": "markdown",
   "id": "e8c81be4-9256-49da-9d5f-7be270124319",
   "metadata": {},
   "source": [
    "Indexing: first dimension is the row index, second dimension is the column axis"
   ]
  },
  {
   "cell_type": "code",
   "execution_count": null,
   "id": "b42e3fb6-a87a-44e1-87e7-a8025745d60f",
   "metadata": {},
   "outputs": [],
   "source": [
    "M[0, 2]"
   ]
  },
  {
   "cell_type": "markdown",
   "id": "8bf48df0-96c5-4fd3-95ec-04b90d2de63b",
   "metadata": {},
   "source": [
    "Slicing is similar to the 1D case:"
   ]
  },
  {
   "cell_type": "code",
   "execution_count": null,
   "id": "3bf74d47-b272-4675-b66c-8046569d5454",
   "metadata": {},
   "outputs": [],
   "source": [
    "# Zeroth row\n",
    "print(M[0,:])\n",
    "\n",
    "# Zeroth and first columns\n",
    "print(M[:, 0:2])"
   ]
  },
  {
   "cell_type": "markdown",
   "id": "c762c98f-748d-41a9-9f6f-018fb3f836cf",
   "metadata": {},
   "source": [
    "You can reshape arrays using array.reshape:"
   ]
  },
  {
   "cell_type": "code",
   "execution_count": null,
   "id": "c18c12bb-2afc-44c2-85a6-627d15a23a77",
   "metadata": {},
   "outputs": [],
   "source": [
    "x = np.arange(1, 10)\n",
    "A = x.reshape(3, 3)\n",
    "A"
   ]
  },
  {
   "cell_type": "markdown",
   "id": "4dc7f23d-4d84-4fde-8e6e-b2eefc4ca26b",
   "metadata": {},
   "source": [
    "Create a matrix or vector of ones using `np.ones` (similar function `np.zeros`)"
   ]
  },
  {
   "cell_type": "code",
   "execution_count": null,
   "id": "a6c6d937-d549-4337-9c6e-c78855a74ceb",
   "metadata": {},
   "outputs": [],
   "source": [
    "B = np.ones((3,3))\n",
    "B"
   ]
  },
  {
   "cell_type": "markdown",
   "id": "61aa1dc4-36f7-47c0-af8e-509f38a3a613",
   "metadata": {},
   "source": [
    "Using \"+\", \"-\", \"*\", \"/\" or \"**\" operators results in elementwise operations."
   ]
  },
  {
   "cell_type": "code",
   "execution_count": null,
   "id": "583fe6b9-8b09-4ae3-bf55-60eed3d5c15b",
   "metadata": {},
   "outputs": [],
   "source": [
    "# Not real matrix multiplication\n",
    "A * B"
   ]
  },
  {
   "cell_type": "markdown",
   "id": "aa5fd4d5-300b-4535-acf9-81e6c6f9f4a0",
   "metadata": {},
   "source": [
    "Use '@' operator for matrix multiplication:"
   ]
  },
  {
   "cell_type": "code",
   "execution_count": null,
   "id": "957ae30d-b77f-4f8b-ba05-1da3d48c1021",
   "metadata": {},
   "outputs": [],
   "source": [
    "A @ B"
   ]
  },
  {
   "cell_type": "markdown",
   "id": "b585f4e7-40be-4498-a316-073ec48bf5b1",
   "metadata": {},
   "source": [
    "Get the transpose of a matrix using `.transpose()`:"
   ]
  },
  {
   "cell_type": "code",
   "execution_count": null,
   "id": "617aa29d-8eea-482f-a7ae-02bfabd35333",
   "metadata": {},
   "outputs": [],
   "source": [
    "A.transpose()"
   ]
  },
  {
   "cell_type": "markdown",
   "id": "c8e12cb9-7402-427b-99ee-684585e13029",
   "metadata": {},
   "source": [
    "Some numpy functions, such as `mean`, `std`, `max`, etc can be called along a single dimension:"
   ]
  },
  {
   "cell_type": "code",
   "execution_count": null,
   "id": "b205beeb-ec50-42f7-9f1e-6701884b166b",
   "metadata": {},
   "outputs": [],
   "source": [
    "A"
   ]
  },
  {
   "cell_type": "code",
   "execution_count": null,
   "id": "bd1b15e0-1413-4bed-b1f8-2c89e1386891",
   "metadata": {},
   "outputs": [],
   "source": [
    "A.sum(axis=0)"
   ]
  },
  {
   "cell_type": "markdown",
   "id": "c180f366-56ed-42b0-84b9-35f38244fa8d",
   "metadata": {},
   "source": [
    "## References\n",
    "* [numpy quickstart tutorial](https://numpy.org/doc/stable/user/absolute_beginners.html)\n",
    "* [numpy documentation](https://numpy.org/doc/stable/reference/index.html)"
   ]
  },
  {
   "cell_type": "code",
   "execution_count": null,
   "id": "5daf4b95-bf8c-43c3-9bc9-743af4355ab6",
   "metadata": {},
   "outputs": [],
   "source": []
  }
 ],
 "metadata": {
  "kernelspec": {
   "display_name": "pangeo",
   "language": "python",
   "name": "pangeo"
  },
  "language_info": {
   "codemirror_mode": {
    "name": "ipython",
    "version": 3
   },
   "file_extension": ".py",
   "mimetype": "text/x-python",
   "name": "python",
   "nbconvert_exporter": "python",
   "pygments_lexer": "ipython3",
   "version": "3.8.5"
  }
 },
 "nbformat": 4,
 "nbformat_minor": 5
}
