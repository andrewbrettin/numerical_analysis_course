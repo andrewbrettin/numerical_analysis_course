{
 "cells": [
  {
   "cell_type": "markdown",
   "id": "10cb8316-bdf6-403b-9b80-4adf840b9643",
   "metadata": {},
   "source": [
    "# Extras\n",
    "\n",
    "This notebook has some miscellaneous intermediate Python topics that can be useful."
   ]
  },
  {
   "cell_type": "code",
   "execution_count": 1,
   "id": "c82abd45-3cf8-4c38-b9ca-a1cd8b888a93",
   "metadata": {},
   "outputs": [],
   "source": [
    "import numpy as np"
   ]
  },
  {
   "cell_type": "markdown",
   "id": "518d866a-1a16-4697-9261-53bd38158d06",
   "metadata": {},
   "source": [
    "## List comprehensions\n",
    "A list-comprehension is an easy way of creating a list using a for-loop."
   ]
  },
  {
   "cell_type": "code",
   "execution_count": 5,
   "id": "eef282e7-549f-462d-914a-0e6839089948",
   "metadata": {},
   "outputs": [
    {
     "data": {
      "text/plain": [
       "['Item 0', 'Item 1', 'Item 2', 'Item 3', 'Item 4']"
      ]
     },
     "execution_count": 5,
     "metadata": {},
     "output_type": "execute_result"
    }
   ],
   "source": [
    "# Standard way of creating an array\n",
    "x = []\n",
    "for i in range(5):\n",
    "    x.append(f\"Item {i}\")\n",
    "x"
   ]
  },
  {
   "cell_type": "code",
   "execution_count": 7,
   "id": "d77e9d6a-b8ce-46a8-8f16-f499a0777ab4",
   "metadata": {},
   "outputs": [
    {
     "data": {
      "text/plain": [
       "['Item 0', 'Item 1', 'Item 2', 'Item 3', 'Item 4']"
      ]
     },
     "execution_count": 7,
     "metadata": {},
     "output_type": "execute_result"
    }
   ],
   "source": [
    "# List comprehension\n",
    "x = [f\"Item {i}\" for i in range(5)]\n",
    "x"
   ]
  },
  {
   "cell_type": "markdown",
   "id": "4f3a810c-20c5-49c7-9826-04f487006bcb",
   "metadata": {},
   "source": [
    "List comprehensions are particularly useful for subsetting values from an existing list:"
   ]
  },
  {
   "cell_type": "code",
   "execution_count": 10,
   "id": "357c4602-62f5-474c-80a2-5fee3c27c804",
   "metadata": {},
   "outputs": [
    {
     "data": {
      "text/plain": [
       "[2, 2, 2, 6, 4]"
      ]
     },
     "execution_count": 10,
     "metadata": {},
     "output_type": "execute_result"
    }
   ],
   "source": [
    "numbers = [1, 2, 3, 2, 2, 3, 6, 4, 1]\n",
    "\n",
    "evens = [num for num in numbers if (num % 2 == 0)]\n",
    "evens"
   ]
  },
  {
   "cell_type": "markdown",
   "id": "787dabd4-2717-4d91-8deb-6afd3a60ec04",
   "metadata": {},
   "source": [
    "## Function arguments and keyword arguments"
   ]
  },
  {
   "cell_type": "markdown",
   "id": "16f692ab-8cf5-49bf-a467-eb35e447d323",
   "metadata": {},
   "source": [
    "Sometimes, we want to set some defaults for a function. This is done with "
   ]
  }
 ],
 "metadata": {
  "kernelspec": {
   "display_name": "pangeo",
   "language": "python",
   "name": "pangeo"
  },
  "language_info": {
   "codemirror_mode": {
    "name": "ipython",
    "version": 3
   },
   "file_extension": ".py",
   "mimetype": "text/x-python",
   "name": "python",
   "nbconvert_exporter": "python",
   "pygments_lexer": "ipython3",
   "version": "3.8.5"
  }
 },
 "nbformat": 4,
 "nbformat_minor": 5
}
