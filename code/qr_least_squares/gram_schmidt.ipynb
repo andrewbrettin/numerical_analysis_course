{
 "cells": [
  {
   "cell_type": "code",
   "execution_count": null,
   "id": "67af5412-4cc9-4a1d-8e3a-b62b9ffd571c",
   "metadata": {},
   "outputs": [],
   "source": [
    "import numpy as np\n",
    "from scipy import linalg"
   ]
  },
  {
   "cell_type": "code",
   "execution_count": null,
   "id": "f612999d-0d6b-4129-b772-7c7f66712023",
   "metadata": {},
   "outputs": [],
   "source": [
    "def gram_schmidt_orthogonalization(A):\n",
    "    \"\"\"\n",
    "    Given a matrix A, computes the reduced QR factorization via the\n",
    "    Gram-Schmidt Orthogonalization process.\n",
    "    \"\"\"\n",
    "    m, n = np.shape(A)\n",
    "    assert m >= n, \"Number of rows should be greater than number of columns\"\n",
    "    \n",
    "    Q = np.zeros((m,n), dtype=np.float64)\n",
    "    R = np.zeros((n,n), dtype=np.float64)\n",
    "    \n",
    "    for j in np.arange(n):\n",
    "        u_j = A[:,j]\n",
    "        for i in np.arange(j):\n",
    "            R[i,j] = np.dot(Q[:,i], A[:,j])\n",
    "            u_j = u_j - R[i,j] * Q[:,i]\n",
    "        \n",
    "        # u_j = A[:,j] - np.sum([R[i,j]*Q[:,i] for i in range(j-1)])\n",
    "        R[j,j] = linalg.norm(u_j, ord=2)\n",
    "        Q[:,j] = (u_j/R[j,j])\n",
    "    \n",
    "    return Q, R"
   ]
  },
  {
   "cell_type": "code",
   "execution_count": null,
   "id": "661e1d98-7bd2-456a-aeba-318b8f5c8614",
   "metadata": {},
   "outputs": [],
   "source": [
    "A = np.array([\n",
    "    [1, 0, 1],\n",
    "    [2, 1, 3],\n",
    "    [0, 2, 4]\n",
    "])\n",
    "\n",
    "Q, R = gram_schmidt_orthogonalization(A)"
   ]
  },
  {
   "cell_type": "code",
   "execution_count": null,
   "id": "dd565d83-c8cc-47e1-90bc-def970101302",
   "metadata": {},
   "outputs": [],
   "source": [
    "Q, R"
   ]
  },
  {
   "cell_type": "code",
   "execution_count": null,
   "id": "8cafc6e7-f3d7-48d8-a942-8187013bd395",
   "metadata": {},
   "outputs": [],
   "source": [
    "Q @ R"
   ]
  },
  {
   "cell_type": "code",
   "execution_count": null,
   "id": "9b1f48e9-2266-482e-9f38-b2e54ab164e1",
   "metadata": {},
   "outputs": [],
   "source": []
  }
 ],
 "metadata": {
  "kernelspec": {
   "display_name": "pangeo",
   "language": "python",
   "name": "pangeo"
  },
  "language_info": {
   "codemirror_mode": {
    "name": "ipython",
    "version": 3
   },
   "file_extension": ".py",
   "mimetype": "text/x-python",
   "name": "python",
   "nbconvert_exporter": "python",
   "pygments_lexer": "ipython3",
   "version": "3.8.5"
  }
 },
 "nbformat": 4,
 "nbformat_minor": 5
}
