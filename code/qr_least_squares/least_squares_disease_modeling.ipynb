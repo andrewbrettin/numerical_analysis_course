{
 "cells": [
  {
   "cell_type": "code",
   "execution_count": 1,
   "id": "35a20ff2-88f7-4197-a16b-53c545ad46ef",
   "metadata": {},
   "outputs": [],
   "source": [
    "import numpy as np\n",
    "from numpy import linalg\n",
    "import matplotlib.pyplot as plt"
   ]
  },
  {
   "cell_type": "markdown",
   "id": "b9deccf1-1e39-47cb-ae2c-d0122defeec6",
   "metadata": {},
   "source": [
    "# Model 1"
   ]
  },
  {
   "cell_type": "code",
   "execution_count": 4,
   "id": "bfef099e-bdeb-4d80-b9ca-03e8cfd4c253",
   "metadata": {},
   "outputs": [],
   "source": [
    "t = np.arange(1, 11)\n",
    "\n",
    "A1 = np.zeros((len(t),3))\n",
    "\n",
    "A1[:,0] = np.ones(len(t))\n",
    "A1[:,1] = t\n",
    "A1[:,2] = t**2\n",
    "\n",
    "b = np.array([14, 20, 21, 24, 15, 45, 67, 150, 422, 987])"
   ]
  },
  {
   "cell_type": "code",
   "execution_count": 5,
   "id": "3be97415-818f-4a50-9e15-7e33678fd0ec",
   "metadata": {},
   "outputs": [
    {
     "data": {
      "text/plain": [
       "array([[  1.,   1.,   1.],\n",
       "       [  1.,   2.,   4.],\n",
       "       [  1.,   3.,   9.],\n",
       "       [  1.,   4.,  16.],\n",
       "       [  1.,   5.,  25.],\n",
       "       [  1.,   6.,  36.],\n",
       "       [  1.,   7.,  49.],\n",
       "       [  1.,   8.,  64.],\n",
       "       [  1.,   9.,  81.],\n",
       "       [  1.,  10., 100.]])"
      ]
     },
     "execution_count": 5,
     "metadata": {},
     "output_type": "execute_result"
    }
   ],
   "source": [
    "A1"
   ]
  },
  {
   "cell_type": "code",
   "execution_count": 6,
   "id": "7c3680a9-6d31-4f68-9058-91a104a1bb20",
   "metadata": {},
   "outputs": [],
   "source": [
    "Q1, R1 = linalg.qr(A1)"
   ]
  },
  {
   "cell_type": "code",
   "execution_count": 7,
   "id": "918f9bfb-da6e-434d-9b99-d825a6396697",
   "metadata": {},
   "outputs": [
    {
     "name": "stdout",
     "output_type": "stream",
     "text": [
      "(10, 3)\n",
      "(3, 3)\n"
     ]
    }
   ],
   "source": [
    "print(np.shape(Q1))\n",
    "print(np.shape(R1))"
   ]
  },
  {
   "cell_type": "code",
   "execution_count": 8,
   "id": "97680a52-1e62-44d4-820a-f98069406ba6",
   "metadata": {},
   "outputs": [
    {
     "data": {
      "text/plain": [
       "array([ 281.16666667, -183.58333333,   23.50757576])"
      ]
     },
     "execution_count": 8,
     "metadata": {},
     "output_type": "execute_result"
    }
   ],
   "source": [
    "coeffs_1 = linalg.solve(R1, Q1.transpose() @ b)\n",
    "coeffs_1"
   ]
  },
  {
   "cell_type": "code",
   "execution_count": 9,
   "id": "08e724ee-9c9b-41a7-ae4d-c0a56f8f6504",
   "metadata": {},
   "outputs": [],
   "source": [
    "def I_1(t, coeffs):\n",
    "    # Get coefficients from computed x1\n",
    "    a0, a1, a2 = coeffs\n",
    "    return a0 + a1*t + a2*t**2"
   ]
  },
  {
   "cell_type": "markdown",
   "id": "2ffb9677-0f96-4c8f-abec-dc349b688308",
   "metadata": {},
   "source": [
    "# Model 2"
   ]
  },
  {
   "cell_type": "code",
   "execution_count": 10,
   "id": "5941e8a7-94e8-4a0f-a78d-fe042c14dc40",
   "metadata": {},
   "outputs": [],
   "source": [
    "A2 = A1.copy()\n",
    "A2[:, 2] = np.exp(t)\n",
    "Q2, R2 = linalg.qr(A2)"
   ]
  },
  {
   "cell_type": "code",
   "execution_count": 11,
   "id": "e76423b2-6f89-494b-98d3-f9f6ca96c935",
   "metadata": {},
   "outputs": [
    {
     "data": {
      "text/plain": [
       "array([8.77707281, 2.8920139 , 0.04357073])"
      ]
     },
     "execution_count": 11,
     "metadata": {},
     "output_type": "execute_result"
    }
   ],
   "source": [
    "coeffs_2 = linalg.solve(R2, Q2.transpose() @ b)\n",
    "coeffs_2"
   ]
  },
  {
   "cell_type": "code",
   "execution_count": 12,
   "id": "8b93562a-0ccc-4787-8715-9d37ff95eabb",
   "metadata": {},
   "outputs": [],
   "source": [
    "def I_2(t, coeffs):\n",
    "    a0, a1, a2 = coeffs\n",
    "    return a0 + a1*t + a2*np.exp(t)"
   ]
  },
  {
   "cell_type": "code",
   "execution_count": 16,
   "id": "ea03550c-6bca-49b0-bfa6-678f067062c5",
   "metadata": {},
   "outputs": [
    {
     "data": {
      "image/png": "[encoded data removed]",
      "text/plain": [
       "<Figure size 432x288 with 1 Axes>"
      ]
     },
     "metadata": {
      "needs_background": "light"
     },
     "output_type": "display_data"
    }
   ],
   "source": [
    "ts = np.linspace(0, 10)\n",
    "\n",
    "plt.plot(ts, I_1(ts, coeffs_1), label='Quadratic model')\n",
    "plt.plot(ts, I_2(ts, coeffs_2), label='Exponential model')\n",
    "\n",
    "plt.plot(t, b, ls='', marker='x', label='Observations')\n",
    "\n",
    "plt.title('Fitted infection models');\n",
    "plt.xlabel('Time')\n",
    "plt.ylabel('Infections')\n",
    "plt.legend();"
   ]
  },
  {
   "cell_type": "markdown",
   "id": "6d313b8b-d3ab-40aa-9cf2-2eeff32da121",
   "metadata": {},
   "source": [
    "Compute sum of squared residuals:"
   ]
  },
  {
   "cell_type": "code",
   "execution_count": 15,
   "id": "1f48dca5-3642-4d53-9d52-8d922e15d316",
   "metadata": {},
   "outputs": [
    {
     "name": "stdout",
     "output_type": "stream",
     "text": [
      "Quadratic model residual 2-norm:    340.2117\n",
      "Exponential model residual 2-norm:   42.0309\n"
     ]
    }
   ],
   "source": [
    "print(\"Quadratic model residual 2-norm:    {:8.4f}\".format(linalg.norm(A1 @ coeffs_1 - b)))\n",
    "print(\"Exponential model residual 2-norm:  {:8.4f}\".format(linalg.norm(A2 @ coeffs_2 - b)))"
   ]
  },
  {
   "cell_type": "code",
   "execution_count": null,
   "id": "f241c558-3a0a-4f82-9c69-1b1d680f53fe",
   "metadata": {},
   "outputs": [],
   "source": []
  }
 ],
 "metadata": {
  "kernelspec": {
   "display_name": "pangeo",
   "language": "python",
   "name": "pangeo"
  },
  "language_info": {
   "codemirror_mode": {
    "name": "ipython",
    "version": 3
   },
   "file_extension": ".py",
   "mimetype": "text/x-python",
   "name": "python",
   "nbconvert_exporter": "python",
   "pygments_lexer": "ipython3",
   "version": "3.8.5"
  }
 },
 "nbformat": 4,
 "nbformat_minor": 5
}
