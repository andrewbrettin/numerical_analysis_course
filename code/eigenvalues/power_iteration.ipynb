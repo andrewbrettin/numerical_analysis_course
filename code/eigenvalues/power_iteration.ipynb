{
 "cells": [
  {
   "cell_type": "code",
   "execution_count": 1,
   "id": "f1cf6cb0-36c0-4693-9abe-f6240a36203b",
   "metadata": {},
   "outputs": [],
   "source": [
    "import numpy as np\n",
    "from scipy import linalg\n",
    "import matplotlib.pyplot as plt\n",
    "\n",
    "rng = np.random.default_rng()"
   ]
  },
  {
   "cell_type": "code",
   "execution_count": 2,
   "id": "0aa1f255-424c-4136-b9f5-2e7df8f19a7b",
   "metadata": {},
   "outputs": [],
   "source": [
    "def rayleigh_quotient(A, x):\n",
    "    \"\"\"\n",
    "    Returns the Rayleigh quotient of x given A. The Rayleigh quotient\n",
    "    is the scalar $r$ which minimizes $||Ax - rx||$, and thus is like\n",
    "    an eigenvalue estimate.\n",
    "    \"\"\"\n",
    "    \n",
    "    r = x.transpose() @ A @ x / np.dot(x,x)\n",
    "    return r\n",
    "\n",
    "def power_iteration(A, v_0=None, iterations=1000):\n",
    "    \"\"\"\n",
    "    Given A, estimates the largest eigenvalue of A and corresponding\n",
    "    eigenvector via power iteration.\n",
    "    \"\"\"\n",
    "    \n",
    "    # Check matrix for squareness and symmetry\n",
    "    assert A.ndim == 2, \"Must be a matrix\"\n",
    "    assert np.shape(A)[0] == np.shape(A)[1], \"Matrix dimensions must agree\"\n",
    "    tol = 1e-12\n",
    "    assert np.max(np.abs(A - A.transpose())) <= tol, \"Matrix should be symmetric\"\n",
    "    n = np.shape(A)[0]\n",
    "    \n",
    "    # Initialization\n",
    "    if v_0 is None:\n",
    "        v_0 = rng.random(n)\n",
    "        v_0 = v_0 / linalg.norm(v_0)\n",
    "    \n",
    "    # Iteration\n",
    "    v = v_0\n",
    "    for k in range(iterations):\n",
    "        w = A @ v\n",
    "        v = w / linalg.norm(w)\n",
    "        eigval = rayleigh_quotient(A, v)\n",
    "        \n",
    "    return v, eigval\n",
    "\n",
    "def inverse_iteration(A, mu, v_0=None, iterations=1000):\n",
    "    \"\"\"\n",
    "    Given A, estimates the eigenvalue of A closest to mu via inverse\n",
    "    iteration (and the corresponding eigenvector).\n",
    "    \"\"\"\n",
    "    \n",
    "    # Check matrix for squareness and symmetry\n",
    "    assert A.ndim == 2, \"Must be a matrix\"\n",
    "    assert np.shape(A)[0] == np.shape(A)[1], \"Matrix dimensions must agree\"\n",
    "    tol = 1e-12\n",
    "    assert np.max(np.abs(A - A.transpose())) <= tol, \"Matrix should be symmetric\"\n",
    "    n = np.shape(A)[0]\n",
    "    \n",
    "    # Initialization\n",
    "    if v_0 is None:\n",
    "        v_0 = rng.random(n)\n",
    "        v_0 = v_0 / linalg.norm(v_0)\n",
    "    \n",
    "    # Iteration\n",
    "    v = v_0\n",
    "    for k in range(iterations):\n",
    "        B = A - mu*np.eye(n)\n",
    "        w = linalg.solve(B, v, assume_a='sym')\n",
    "        v = w / linalg.norm(w)\n",
    "        eigval = rayleigh_quotient(A, v)\n",
    "    return v, eigval\n",
    "\n",
    "# Bonus: Rayleigh quotient iteration\n",
    "def rayleigh_quotient_iteration(A, v_0=None, iterations=20):\n",
    "    \"\"\"\n",
    "    Given A, estimates the eigenvalue of A closest to mu via Rayleigh quotient\n",
    "    iteration (and the corresponding eigenvector).\n",
    "    \"\"\"\n",
    "    \n",
    "    # Check matrix for squareness and symmetry\n",
    "    assert A.ndim == 2, \"Must be a matrix\"\n",
    "    assert np.shape(A)[0] == np.shape(A)[1], \"Matrix dimensions must agree\"\n",
    "    tol = 1e-12\n",
    "    assert np.max(np.abs(A - A.transpose())) <= tol, \"Matrix should be symmetric\"\n",
    "    n = np.shape(A)[0]\n",
    "    \n",
    "    # Initialization\n",
    "    if v_0 is None:\n",
    "        v_0 = rng.random(n)\n",
    "        v_0 = v_0 / linalg.norm(v_0)\n",
    "    \n",
    "    # Iteration\n",
    "    v = v_0\n",
    "    eigval = rayleigh_quotient(A, v)\n",
    "    for k in range(iterations):\n",
    "        B = A - eigval*np.eye(n)\n",
    "        w = linalg.solve(B, v, assume_a='sym')\n",
    "        v = w / linalg.norm(w)\n",
    "        eigval = rayleigh_quotient(A, v)\n",
    "    return v, eigval"
   ]
  },
  {
   "cell_type": "code",
   "execution_count": 3,
   "id": "4b58818c-7849-4e8b-bd97-a5db6fe775ce",
   "metadata": {},
   "outputs": [
    {
     "data": {
      "text/plain": [
       "array([[12,  8, -8],\n",
       "       [ 8, 14, -1],\n",
       "       [-8, -1, 14]])"
      ]
     },
     "execution_count": 3,
     "metadata": {},
     "output_type": "execute_result"
    }
   ],
   "source": [
    "# Construct symmetric matrix\n",
    "B = rng.integers(-3, 4, size=(3,3))\n",
    "A = B.transpose() @ B\n",
    "A"
   ]
  },
  {
   "cell_type": "code",
   "execution_count": 4,
   "id": "ca0e8a84-1a0b-4314-87e3-7baaeab74986",
   "metadata": {},
   "outputs": [],
   "source": [
    "v1, lam1 = power_iteration(A)"
   ]
  },
  {
   "cell_type": "code",
   "execution_count": 5,
   "id": "baa8df34-fa1f-45d0-9581-583ad18b58f8",
   "metadata": {},
   "outputs": [
    {
     "data": {
      "text/plain": [
       "array([ 0.65900213,  0.53184405, -0.53184405])"
      ]
     },
     "execution_count": 5,
     "metadata": {},
     "output_type": "execute_result"
    }
   ],
   "source": [
    "# Eigenvector found\n",
    "v1"
   ]
  },
  {
   "cell_type": "code",
   "execution_count": 6,
   "id": "1959ea93-f6e0-439b-ae90-7a4f141b21b3",
   "metadata": {},
   "outputs": [
    {
     "data": {
      "text/plain": [
       "array([0., 0., 0.])"
      ]
     },
     "execution_count": 6,
     "metadata": {},
     "output_type": "execute_result"
    }
   ],
   "source": [
    "# Check difference A v - lambda v\n",
    "A @ v1 - lam1 * v1"
   ]
  },
  {
   "cell_type": "code",
   "execution_count": 7,
   "id": "9b065f3c-262b-4861-9d76-6c28534c1512",
   "metadata": {},
   "outputs": [],
   "source": [
    "# Inverse iteration\n",
    "v_other, lam_other = inverse_iteration(A, 1.0)"
   ]
  },
  {
   "cell_type": "code",
   "execution_count": 8,
   "id": "45a23edf-e882-405e-98ce-48a9188d8de9",
   "metadata": {},
   "outputs": [
    {
     "data": {
      "text/plain": [
       "array([ 0.75214107, -0.46598487,  0.46598487])"
      ]
     },
     "execution_count": 8,
     "metadata": {},
     "output_type": "execute_result"
    }
   ],
   "source": [
    "# Eigenvector found\n",
    "v_other"
   ]
  },
  {
   "cell_type": "code",
   "execution_count": 9,
   "id": "f7f95e95-4b8c-40ea-bf94-640740e56577",
   "metadata": {},
   "outputs": [
    {
     "data": {
      "text/plain": [
       "array([-4.44089210e-16, -9.99200722e-16, -1.11022302e-16])"
      ]
     },
     "execution_count": 9,
     "metadata": {},
     "output_type": "execute_result"
    }
   ],
   "source": [
    "# Check difference A v - lambda v\n",
    "A @ v_other - lam_other * v_other"
   ]
  },
  {
   "cell_type": "code",
   "execution_count": null,
   "id": "edc8271d-8208-4a22-b19f-bacd9b1bdc6c",
   "metadata": {},
   "outputs": [],
   "source": []
  }
 ],
 "metadata": {
  "kernelspec": {
   "display_name": "pangeo",
   "language": "python",
   "name": "pangeo"
  },
  "language_info": {
   "codemirror_mode": {
    "name": "ipython",
    "version": 3
   },
   "file_extension": ".py",
   "mimetype": "text/x-python",
   "name": "python",
   "nbconvert_exporter": "python",
   "pygments_lexer": "ipython3",
   "version": "3.8.5"
  }
 },
 "nbformat": 4,
 "nbformat_minor": 5
}
